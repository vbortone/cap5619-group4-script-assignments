{
 "cells": [
  {
   "cell_type": "code",
   "execution_count": 15,
   "id": "7ab2a193-17d3-428f-bbed-ec88a3618ec2",
   "metadata": {
    "ExecuteTime": {
     "end_time": "2024-04-03T06:17:47.288012Z",
     "start_time": "2024-04-03T06:17:47.284506Z"
    }
   },
   "outputs": [],
   "source": [
    "import pandas as pd\n",
    "import matplotlib.pyplot as plt\n",
    "from sklearn.preprocessing import StandardScaler\n",
    "from sklearn.cluster import DBSCAN"
   ]
  },
  {
   "cell_type": "code",
   "execution_count": 16,
   "id": "41fb189c-f682-4083-ad57-fae27dbfa7d3",
   "metadata": {
    "ExecuteTime": {
     "end_time": "2024-04-03T06:17:52.470574Z",
     "start_time": "2024-04-03T06:17:47.298527Z"
    }
   },
   "outputs": [
    {
     "data": {
      "text/plain": "           Account No       DATE               TRANSACTION DETAILS  CHQ.NO.  \\\n0       409000611074' 2017-06-29  TRF FROM  Indiaforensic SERVICES      NaN   \n1       409000611074' 2017-07-05  TRF FROM  Indiaforensic SERVICES      NaN   \n2       409000611074' 2017-07-18        FDRL/INTERNAL FUND TRANSFE      NaN   \n3       409000611074' 2017-08-01   TRF FRM  Indiaforensic SERVICES      NaN   \n4       409000611074' 2017-08-16        FDRL/INTERNAL FUND TRANSFE      NaN   \n...               ...        ...                               ...      ...   \n116196  409000362497' 2019-03-05  TRF TO 1196428  Indiaforensic SE      NaN   \n116197  409000362497' 2019-03-05        FDRL/INTERNAL FUND TRANSFE      NaN   \n116198  409000362497' 2019-03-05        FDRL/INTERNAL FUND TRANSFE      NaN   \n116199  409000362497' 2019-03-05                 IMPS 05-03-20194C      NaN   \n116200  409000362497' 2019-03-05         Sweep Trf To: 40900036427      NaN   \n\n       VALUE DATE  WITHDRAWAL AMT  DEPOSIT AMT   BALANCE AMT  .  \n0      2017-06-29             NaN    1000000.0  1.000000e+06  .  \n1      2017-07-05             NaN    1000000.0  2.000000e+06  .  \n2      2017-07-18             NaN     500000.0  2.500000e+06  .  \n3      2017-08-01             NaN    3000000.0  5.500000e+06  .  \n4      2017-08-16             NaN     500000.0  6.000000e+06  .  \n...           ...             ...          ...           ... ..  \n116196 2019-03-05       117934.30          NaN -1.901902e+09  .  \n116197 2019-03-05             NaN     300000.0 -1.901602e+09  .  \n116198 2019-03-05             NaN     300000.0 -1.901302e+09  .  \n116199 2019-03-05       109868.65          NaN -1.901412e+09  .  \n116200 2019-03-05         5000.00          NaN -1.901417e+09  .  \n\n[116201 rows x 9 columns]",
      "text/html": "<div>\n<style scoped>\n    .dataframe tbody tr th:only-of-type {\n        vertical-align: middle;\n    }\n\n    .dataframe tbody tr th {\n        vertical-align: top;\n    }\n\n    .dataframe thead th {\n        text-align: right;\n    }\n</style>\n<table border=\"1\" class=\"dataframe\">\n  <thead>\n    <tr style=\"text-align: right;\">\n      <th></th>\n      <th>Account No</th>\n      <th>DATE</th>\n      <th>TRANSACTION DETAILS</th>\n      <th>CHQ.NO.</th>\n      <th>VALUE DATE</th>\n      <th>WITHDRAWAL AMT</th>\n      <th>DEPOSIT AMT</th>\n      <th>BALANCE AMT</th>\n      <th>.</th>\n    </tr>\n  </thead>\n  <tbody>\n    <tr>\n      <th>0</th>\n      <td>409000611074'</td>\n      <td>2017-06-29</td>\n      <td>TRF FROM  Indiaforensic SERVICES</td>\n      <td>NaN</td>\n      <td>2017-06-29</td>\n      <td>NaN</td>\n      <td>1000000.0</td>\n      <td>1.000000e+06</td>\n      <td>.</td>\n    </tr>\n    <tr>\n      <th>1</th>\n      <td>409000611074'</td>\n      <td>2017-07-05</td>\n      <td>TRF FROM  Indiaforensic SERVICES</td>\n      <td>NaN</td>\n      <td>2017-07-05</td>\n      <td>NaN</td>\n      <td>1000000.0</td>\n      <td>2.000000e+06</td>\n      <td>.</td>\n    </tr>\n    <tr>\n      <th>2</th>\n      <td>409000611074'</td>\n      <td>2017-07-18</td>\n      <td>FDRL/INTERNAL FUND TRANSFE</td>\n      <td>NaN</td>\n      <td>2017-07-18</td>\n      <td>NaN</td>\n      <td>500000.0</td>\n      <td>2.500000e+06</td>\n      <td>.</td>\n    </tr>\n    <tr>\n      <th>3</th>\n      <td>409000611074'</td>\n      <td>2017-08-01</td>\n      <td>TRF FRM  Indiaforensic SERVICES</td>\n      <td>NaN</td>\n      <td>2017-08-01</td>\n      <td>NaN</td>\n      <td>3000000.0</td>\n      <td>5.500000e+06</td>\n      <td>.</td>\n    </tr>\n    <tr>\n      <th>4</th>\n      <td>409000611074'</td>\n      <td>2017-08-16</td>\n      <td>FDRL/INTERNAL FUND TRANSFE</td>\n      <td>NaN</td>\n      <td>2017-08-16</td>\n      <td>NaN</td>\n      <td>500000.0</td>\n      <td>6.000000e+06</td>\n      <td>.</td>\n    </tr>\n    <tr>\n      <th>...</th>\n      <td>...</td>\n      <td>...</td>\n      <td>...</td>\n      <td>...</td>\n      <td>...</td>\n      <td>...</td>\n      <td>...</td>\n      <td>...</td>\n      <td>...</td>\n    </tr>\n    <tr>\n      <th>116196</th>\n      <td>409000362497'</td>\n      <td>2019-03-05</td>\n      <td>TRF TO 1196428  Indiaforensic SE</td>\n      <td>NaN</td>\n      <td>2019-03-05</td>\n      <td>117934.30</td>\n      <td>NaN</td>\n      <td>-1.901902e+09</td>\n      <td>.</td>\n    </tr>\n    <tr>\n      <th>116197</th>\n      <td>409000362497'</td>\n      <td>2019-03-05</td>\n      <td>FDRL/INTERNAL FUND TRANSFE</td>\n      <td>NaN</td>\n      <td>2019-03-05</td>\n      <td>NaN</td>\n      <td>300000.0</td>\n      <td>-1.901602e+09</td>\n      <td>.</td>\n    </tr>\n    <tr>\n      <th>116198</th>\n      <td>409000362497'</td>\n      <td>2019-03-05</td>\n      <td>FDRL/INTERNAL FUND TRANSFE</td>\n      <td>NaN</td>\n      <td>2019-03-05</td>\n      <td>NaN</td>\n      <td>300000.0</td>\n      <td>-1.901302e+09</td>\n      <td>.</td>\n    </tr>\n    <tr>\n      <th>116199</th>\n      <td>409000362497'</td>\n      <td>2019-03-05</td>\n      <td>IMPS 05-03-20194C</td>\n      <td>NaN</td>\n      <td>2019-03-05</td>\n      <td>109868.65</td>\n      <td>NaN</td>\n      <td>-1.901412e+09</td>\n      <td>.</td>\n    </tr>\n    <tr>\n      <th>116200</th>\n      <td>409000362497'</td>\n      <td>2019-03-05</td>\n      <td>Sweep Trf To: 40900036427</td>\n      <td>NaN</td>\n      <td>2019-03-05</td>\n      <td>5000.00</td>\n      <td>NaN</td>\n      <td>-1.901417e+09</td>\n      <td>.</td>\n    </tr>\n  </tbody>\n</table>\n<p>116201 rows × 9 columns</p>\n</div>"
     },
     "execution_count": 16,
     "metadata": {},
     "output_type": "execute_result"
    }
   ],
   "source": [
    "# Load transaction data from the chosen file\n",
    "tr = pd.read_excel('../data/bank.xlsx')\n",
    "tr"
   ]
  },
  {
   "cell_type": "code",
   "execution_count": 17,
   "id": "f22dfb1f-2e47-475b-8a93-66ada7bb99b9",
   "metadata": {
    "ExecuteTime": {
     "end_time": "2024-04-03T06:17:52.474304Z",
     "start_time": "2024-04-03T06:17:52.471579Z"
    }
   },
   "outputs": [
    {
     "data": {
      "text/plain": "(116201, 9)"
     },
     "execution_count": 17,
     "metadata": {},
     "output_type": "execute_result"
    }
   ],
   "source": [
    "tr.shape"
   ]
  },
  {
   "cell_type": "code",
   "execution_count": 18,
   "id": "3d04896a-8f50-4e05-8147-9f19aa26fc5e",
   "metadata": {
    "ExecuteTime": {
     "end_time": "2024-04-03T06:17:52.489286Z",
     "start_time": "2024-04-03T06:17:52.474304Z"
    }
   },
   "outputs": [
    {
     "name": "stdout",
     "output_type": "stream",
     "text": [
      "<class 'pandas.core.frame.DataFrame'>\n",
      "RangeIndex: 116201 entries, 0 to 116200\n",
      "Data columns (total 9 columns):\n",
      " #   Column               Non-Null Count   Dtype         \n",
      "---  ------               --------------   -----         \n",
      " 0   Account No           116201 non-null  object        \n",
      " 1   DATE                 116201 non-null  datetime64[ns]\n",
      " 2   TRANSACTION DETAILS  113702 non-null  object        \n",
      " 3   CHQ.NO.              905 non-null     float64       \n",
      " 4   VALUE DATE           116201 non-null  datetime64[ns]\n",
      " 5   WITHDRAWAL AMT       53549 non-null   float64       \n",
      " 6   DEPOSIT AMT          62652 non-null   float64       \n",
      " 7   BALANCE AMT          116201 non-null  float64       \n",
      " 8   .                    116201 non-null  object        \n",
      "dtypes: datetime64[ns](2), float64(4), object(3)\n",
      "memory usage: 8.0+ MB\n"
     ]
    }
   ],
   "source": [
    "tr.info()"
   ]
  },
  {
   "cell_type": "code",
   "execution_count": 19,
   "id": "c6abc4dc-83e5-4bc9-bfee-faaf7fb59d87",
   "metadata": {
    "ExecuteTime": {
     "end_time": "2024-04-03T06:17:52.503416Z",
     "start_time": "2024-04-03T06:17:52.490296Z"
    }
   },
   "outputs": [
    {
     "data": {
      "text/plain": "Account No                  0\nDATE                        0\nTRANSACTION DETAILS      2499\nCHQ.NO.                115296\nVALUE DATE                  0\nWITHDRAWAL AMT          62652\nDEPOSIT AMT             53549\nBALANCE AMT                 0\n.                           0\ndtype: int64"
     },
     "execution_count": 19,
     "metadata": {},
     "output_type": "execute_result"
    }
   ],
   "source": [
    "tr.isnull().sum()"
   ]
  },
  {
   "cell_type": "code",
   "execution_count": 20,
   "id": "bfe882e3-4346-4d17-aa4e-8606360e83f1",
   "metadata": {
    "ExecuteTime": {
     "end_time": "2024-04-03T06:17:52.590220Z",
     "start_time": "2024-04-03T06:17:52.504421Z"
    }
   },
   "outputs": [
    {
     "ename": "TypeError",
     "evalue": "Encoders require their input argument must be uniformly strings or numbers. Got ['float', 'int', 'str']",
     "output_type": "error",
     "traceback": [
      "\u001B[1;31m---------------------------------------------------------------------------\u001B[0m",
      "\u001B[1;31mTypeError\u001B[0m                                 Traceback (most recent call last)",
      "File \u001B[1;32mE:\\projects\\UCF\\cap5619-group4-script-assignments\\.venv\\Lib\\site-packages\\sklearn\\utils\\_encode.py:174\u001B[0m, in \u001B[0;36m_unique_python\u001B[1;34m(values, return_inverse, return_counts)\u001B[0m\n\u001B[0;32m    172\u001B[0m uniques_set, missing_values \u001B[38;5;241m=\u001B[39m _extract_missing(uniques_set)\n\u001B[1;32m--> 174\u001B[0m uniques \u001B[38;5;241m=\u001B[39m \u001B[38;5;28;43msorted\u001B[39;49m\u001B[43m(\u001B[49m\u001B[43muniques_set\u001B[49m\u001B[43m)\u001B[49m\n\u001B[0;32m    175\u001B[0m uniques\u001B[38;5;241m.\u001B[39mextend(missing_values\u001B[38;5;241m.\u001B[39mto_list())\n",
      "\u001B[1;31mTypeError\u001B[0m: '<' not supported between instances of 'int' and 'str'",
      "\nDuring handling of the above exception, another exception occurred:\n",
      "\u001B[1;31mTypeError\u001B[0m                                 Traceback (most recent call last)",
      "Cell \u001B[1;32mIn[20], line 4\u001B[0m\n\u001B[0;32m      2\u001B[0m encoder \u001B[38;5;241m=\u001B[39m LabelEncoder()\n\u001B[0;32m      3\u001B[0m tr[\u001B[38;5;124m\"\u001B[39m\u001B[38;5;124mAccount No\u001B[39m\u001B[38;5;124m\"\u001B[39m] \u001B[38;5;241m=\u001B[39m encoder\u001B[38;5;241m.\u001B[39mfit_transform(tr[\u001B[38;5;124m\"\u001B[39m\u001B[38;5;124mAccount No\u001B[39m\u001B[38;5;124m\"\u001B[39m])\n\u001B[1;32m----> 4\u001B[0m tr[\u001B[38;5;124m\"\u001B[39m\u001B[38;5;124mTRANSACTION DETAILS\u001B[39m\u001B[38;5;124m\"\u001B[39m] \u001B[38;5;241m=\u001B[39m \u001B[43mencoder\u001B[49m\u001B[38;5;241;43m.\u001B[39;49m\u001B[43mfit_transform\u001B[49m\u001B[43m(\u001B[49m\u001B[43mtr\u001B[49m\u001B[43m[\u001B[49m\u001B[38;5;124;43m\"\u001B[39;49m\u001B[38;5;124;43mTRANSACTION DETAILS\u001B[39;49m\u001B[38;5;124;43m\"\u001B[39;49m\u001B[43m]\u001B[49m\u001B[43m)\u001B[49m\n\u001B[0;32m      5\u001B[0m tr\u001B[38;5;241m.\u001B[39mdrop(\u001B[38;5;124m'\u001B[39m\u001B[38;5;124mCHQ.NO.\u001B[39m\u001B[38;5;124m'\u001B[39m, axis\u001B[38;5;241m=\u001B[39m\u001B[38;5;241m1\u001B[39m, inplace\u001B[38;5;241m=\u001B[39m\u001B[38;5;28;01mTrue\u001B[39;00m)\n\u001B[0;32m      6\u001B[0m tr\u001B[38;5;241m.\u001B[39mdrop(\u001B[38;5;124m'\u001B[39m\u001B[38;5;124m.\u001B[39m\u001B[38;5;124m'\u001B[39m, axis\u001B[38;5;241m=\u001B[39m\u001B[38;5;241m1\u001B[39m, inplace\u001B[38;5;241m=\u001B[39m\u001B[38;5;28;01mTrue\u001B[39;00m)\n",
      "File \u001B[1;32mE:\\projects\\UCF\\cap5619-group4-script-assignments\\.venv\\Lib\\site-packages\\sklearn\\preprocessing\\_label.py:115\u001B[0m, in \u001B[0;36mLabelEncoder.fit_transform\u001B[1;34m(self, y)\u001B[0m\n\u001B[0;32m    102\u001B[0m \u001B[38;5;250m\u001B[39m\u001B[38;5;124;03m\"\"\"Fit label encoder and return encoded labels.\u001B[39;00m\n\u001B[0;32m    103\u001B[0m \n\u001B[0;32m    104\u001B[0m \u001B[38;5;124;03mParameters\u001B[39;00m\n\u001B[1;32m   (...)\u001B[0m\n\u001B[0;32m    112\u001B[0m \u001B[38;5;124;03m    Encoded labels.\u001B[39;00m\n\u001B[0;32m    113\u001B[0m \u001B[38;5;124;03m\"\"\"\u001B[39;00m\n\u001B[0;32m    114\u001B[0m y \u001B[38;5;241m=\u001B[39m column_or_1d(y, warn\u001B[38;5;241m=\u001B[39m\u001B[38;5;28;01mTrue\u001B[39;00m)\n\u001B[1;32m--> 115\u001B[0m \u001B[38;5;28mself\u001B[39m\u001B[38;5;241m.\u001B[39mclasses_, y \u001B[38;5;241m=\u001B[39m \u001B[43m_unique\u001B[49m\u001B[43m(\u001B[49m\u001B[43my\u001B[49m\u001B[43m,\u001B[49m\u001B[43m \u001B[49m\u001B[43mreturn_inverse\u001B[49m\u001B[38;5;241;43m=\u001B[39;49m\u001B[38;5;28;43;01mTrue\u001B[39;49;00m\u001B[43m)\u001B[49m\n\u001B[0;32m    116\u001B[0m \u001B[38;5;28;01mreturn\u001B[39;00m y\n",
      "File \u001B[1;32mE:\\projects\\UCF\\cap5619-group4-script-assignments\\.venv\\Lib\\site-packages\\sklearn\\utils\\_encode.py:42\u001B[0m, in \u001B[0;36m_unique\u001B[1;34m(values, return_inverse, return_counts)\u001B[0m\n\u001B[0;32m     11\u001B[0m \u001B[38;5;250m\u001B[39m\u001B[38;5;124;03m\"\"\"Helper function to find unique values with support for python objects.\u001B[39;00m\n\u001B[0;32m     12\u001B[0m \n\u001B[0;32m     13\u001B[0m \u001B[38;5;124;03mUses pure python method for object dtype, and numpy method for\u001B[39;00m\n\u001B[1;32m   (...)\u001B[0m\n\u001B[0;32m     39\u001B[0m \u001B[38;5;124;03m    array. Only provided if `return_counts` is True.\u001B[39;00m\n\u001B[0;32m     40\u001B[0m \u001B[38;5;124;03m\"\"\"\u001B[39;00m\n\u001B[0;32m     41\u001B[0m \u001B[38;5;28;01mif\u001B[39;00m values\u001B[38;5;241m.\u001B[39mdtype \u001B[38;5;241m==\u001B[39m \u001B[38;5;28mobject\u001B[39m:\n\u001B[1;32m---> 42\u001B[0m     \u001B[38;5;28;01mreturn\u001B[39;00m \u001B[43m_unique_python\u001B[49m\u001B[43m(\u001B[49m\n\u001B[0;32m     43\u001B[0m \u001B[43m        \u001B[49m\u001B[43mvalues\u001B[49m\u001B[43m,\u001B[49m\u001B[43m \u001B[49m\u001B[43mreturn_inverse\u001B[49m\u001B[38;5;241;43m=\u001B[39;49m\u001B[43mreturn_inverse\u001B[49m\u001B[43m,\u001B[49m\u001B[43m \u001B[49m\u001B[43mreturn_counts\u001B[49m\u001B[38;5;241;43m=\u001B[39;49m\u001B[43mreturn_counts\u001B[49m\n\u001B[0;32m     44\u001B[0m \u001B[43m    \u001B[49m\u001B[43m)\u001B[49m\n\u001B[0;32m     45\u001B[0m \u001B[38;5;66;03m# numerical\u001B[39;00m\n\u001B[0;32m     46\u001B[0m \u001B[38;5;28;01mreturn\u001B[39;00m _unique_np(\n\u001B[0;32m     47\u001B[0m     values, return_inverse\u001B[38;5;241m=\u001B[39mreturn_inverse, return_counts\u001B[38;5;241m=\u001B[39mreturn_counts\n\u001B[0;32m     48\u001B[0m )\n",
      "File \u001B[1;32mE:\\projects\\UCF\\cap5619-group4-script-assignments\\.venv\\Lib\\site-packages\\sklearn\\utils\\_encode.py:179\u001B[0m, in \u001B[0;36m_unique_python\u001B[1;34m(values, return_inverse, return_counts)\u001B[0m\n\u001B[0;32m    177\u001B[0m \u001B[38;5;28;01mexcept\u001B[39;00m \u001B[38;5;167;01mTypeError\u001B[39;00m:\n\u001B[0;32m    178\u001B[0m     types \u001B[38;5;241m=\u001B[39m \u001B[38;5;28msorted\u001B[39m(t\u001B[38;5;241m.\u001B[39m\u001B[38;5;18m__qualname__\u001B[39m \u001B[38;5;28;01mfor\u001B[39;00m t \u001B[38;5;129;01min\u001B[39;00m \u001B[38;5;28mset\u001B[39m(\u001B[38;5;28mtype\u001B[39m(v) \u001B[38;5;28;01mfor\u001B[39;00m v \u001B[38;5;129;01min\u001B[39;00m values))\n\u001B[1;32m--> 179\u001B[0m     \u001B[38;5;28;01mraise\u001B[39;00m \u001B[38;5;167;01mTypeError\u001B[39;00m(\n\u001B[0;32m    180\u001B[0m         \u001B[38;5;124m\"\u001B[39m\u001B[38;5;124mEncoders require their input argument must be uniformly \u001B[39m\u001B[38;5;124m\"\u001B[39m\n\u001B[0;32m    181\u001B[0m         \u001B[38;5;124mf\u001B[39m\u001B[38;5;124m\"\u001B[39m\u001B[38;5;124mstrings or numbers. Got \u001B[39m\u001B[38;5;132;01m{\u001B[39;00mtypes\u001B[38;5;132;01m}\u001B[39;00m\u001B[38;5;124m\"\u001B[39m\n\u001B[0;32m    182\u001B[0m     )\n\u001B[0;32m    183\u001B[0m ret \u001B[38;5;241m=\u001B[39m (uniques,)\n\u001B[0;32m    185\u001B[0m \u001B[38;5;28;01mif\u001B[39;00m return_inverse:\n",
      "\u001B[1;31mTypeError\u001B[0m: Encoders require their input argument must be uniformly strings or numbers. Got ['float', 'int', 'str']"
     ]
    }
   ],
   "source": [
    "\n",
    "\n",
    "\n",
    "from sklearn.preprocessing import LabelEncoder\n",
    "encoder = LabelEncoder()\n",
    "tr[\"Account No\"] = encoder.fit_transform(tr[\"Account No\"])\n",
    "tr[\"TRANSACTION DETAILS\"] = encoder.fit_transform(tr[\"TRANSACTION DETAILS\"])\n",
    "tr.drop('CHQ.NO.', axis=1, inplace=True)\n",
    "tr.drop('.', axis=1, inplace=True)\n",
    "# Convert date columns to datetime\n",
    "tr['DATE'] = pd.to_datetime(tr['DATE'], format='%d-%b-%y')\n",
    "tr['VALUE DATE'] = pd.to_datetime(tr['VALUE DATE'], format='%d-%b-%y')\n",
    "\n",
    "# Convert datetime columns to a numeric value, e.g., days since a reference date\n",
    "reference_date = pd.Timestamp('2010-01-01')\n",
    "tr['DATE_numeric'] = (tr['DATE'] - reference_date).dt.days\n",
    "tr['VALUE_DATE_numeric'] = (tr['VALUE DATE'] - reference_date).dt.days\n",
    "\n",
    "# Convert 'WITHDRAWAL AMT', 'DEPOSIT AMT', and 'BALANCE AMT' to numeric, assuming they are separated by commas\n",
    "tr['WITHDRAWAL AMT'] = pd.to_numeric(tr['WITHDRAWAL AMT'].replace(',', '', regex=False), errors='coerce')\n",
    "tr['DEPOSIT AMT'] = pd.to_numeric(tr['DEPOSIT AMT'].replace(',', '', regex=False), errors='coerce')\n",
    "tr['BALANCE AMT'] = pd.to_numeric(tr['BALANCE AMT'].replace(',', '', regex=False), errors='coerce')"
   ]
  },
  {
   "cell_type": "code",
   "execution_count": null,
   "id": "694e98e7-917c-4dba-9510-99cef067a45f",
   "metadata": {},
   "outputs": [],
   "source": [
    "# Now include them in the numeric_columns\n",
    "numeric_columns = ['Account No', 'TRANSACTION DETAILS', ' WITHDRAWAL AMT ', ' DEPOSIT AMT ', 'BALANCE AMT', 'DATE_numeric', 'VALUE_DATE_numeric']\n",
    "tr_numeric = tr[numeric_columns]"
   ]
  },
  {
   "cell_type": "code",
   "execution_count": null,
   "id": "65a3d006-1435-46ae-99ca-41a29399a66b",
   "metadata": {
    "ExecuteTime": {
     "start_time": "2024-04-03T06:17:52.592727Z"
    }
   },
   "outputs": [],
   "source": [
    "tr.drop('DATE', axis=1, inplace=True)\n",
    "tr.drop('VALUE DATE', axis=1, inplace=True)\n",
    "tr.fillna(0, inplace=True)"
   ]
  },
  {
   "cell_type": "code",
   "execution_count": null,
   "id": "d14db7c5-5d7a-4a94-a2fb-2b63e32fc9a0",
   "metadata": {
    "ExecuteTime": {
     "start_time": "2024-04-03T06:17:52.593730Z"
    }
   },
   "outputs": [],
   "source": [
    "tr.info()"
   ]
  },
  {
   "cell_type": "code",
   "execution_count": null,
   "id": "5724b4d4-efb3-4f6e-b519-ba489a2fa11d",
   "metadata": {
    "ExecuteTime": {
     "start_time": "2024-04-03T06:17:52.593730Z"
    }
   },
   "outputs": [],
   "source": [
    "tr"
   ]
  },
  {
   "cell_type": "code",
   "execution_count": null,
   "id": "46c0073a-5a0c-40ee-8414-ea98f131edca",
   "metadata": {
    "ExecuteTime": {
     "start_time": "2024-04-03T06:17:52.594730Z"
    }
   },
   "outputs": [],
   "source": [
    "# Assuming tr is your DataFrame and the date columns have been converted to numeric as per the previous step\n",
    "scaler = StandardScaler()\n",
    "tr_scaled = scaler.fit_transform(tr)"
   ]
  },
  {
   "cell_type": "code",
   "execution_count": null,
   "id": "fa93bac0-bebf-4494-9f77-2f7f5e0f9347",
   "metadata": {
    "ExecuteTime": {
     "start_time": "2024-04-03T06:17:52.595730Z"
    }
   },
   "outputs": [],
   "source": [
    "# DBSCAN clustering\n",
    "eps_values = [0.1, 0.5, 1.0]  \n",
    "min_samples_values = [5, 10, 15]  \n",
    "\n",
    "best_score = -1\n",
    "best_params = None\n",
    "best_labels = None\n",
    "\n",
    "# Number of clusters, ignoring noise\n",
    "for eps in eps_values:\n",
    "    for min_samples in min_samples_values:\n",
    "        dbscan = DBSCAN(eps=eps, min_samples=min_samples)\n",
    "        labels = dbscan.fit_predict(tr_scaled)\n",
    "        score = len(set(labels)) - (1 if -1 in labels else 0)  \n",
    "        if score > best_score:\n",
    "            best_score = score\n",
    "            best_params = (eps, min_samples)\n",
    "            best_labels = labels"
   ]
  },
  {
   "cell_type": "code",
   "execution_count": null,
   "id": "77bbfd11-579f-48f2-a6b1-17038025891c",
   "metadata": {},
   "outputs": [],
   "source": [
    "# Extracting the best parameters and clustering results\n",
    "best_eps, best_min_samples = best_params\n",
    "print(\"Best parameters: eps={}, min_samples={}\".format(best_eps, best_min_samples))\n",
    "print(\"Number of clusters found:\", best_score)"
   ]
  },
  {
   "cell_type": "code",
   "execution_count": null,
   "id": "d4c60c87-c01e-4f92-948b-7a9bc4a0d009",
   "metadata": {
    "ExecuteTime": {
     "start_time": "2024-04-03T06:17:52.596730Z"
    }
   },
   "outputs": [],
   "source": [
    "# Assigning cluster labels to the original data\n",
    "tr['cluster'] = best_labels"
   ]
  },
  {
   "cell_type": "code",
   "execution_count": null,
   "id": "f481dc74-cc7f-4b16-829b-3a7d2225bbcd",
   "metadata": {
    "scrolled": true,
    "ExecuteTime": {
     "start_time": "2024-04-03T06:17:52.597730Z"
    }
   },
   "outputs": [],
   "source": [
    "# Accessing clustered transactions\n",
    "for cluster_id in tr['cluster'].unique():\n",
    "    cluster_transactions = tr[tr['cluster'] == cluster_id]\n",
    "    print(f\"Cluster {cluster_id}:\")\n",
    "    print(cluster_transactions.head())"
   ]
  },
  {
   "cell_type": "code",
   "execution_count": null,
   "id": "2944c971-31e1-4d4f-ae4c-a514314c3cf2",
   "metadata": {
    "ExecuteTime": {
     "start_time": "2024-04-03T06:17:52.598730Z"
    }
   },
   "outputs": [],
   "source": [
    "# Analyzing anomalies\n",
    "anomaly_mask = best_labels == -1  \n",
    "anomalies = tr[anomaly_mask]"
   ]
  },
  {
   "cell_type": "code",
   "execution_count": null,
   "id": "910f697f-a4d1-4e07-8cdf-0807cfcb7f85",
   "metadata": {
    "ExecuteTime": {
     "start_time": "2024-04-03T06:17:52.598730Z"
    }
   },
   "outputs": [],
   "source": [
    "# Analyzing characteristics of anomalies\n",
    "anomalies_description = anomalies.describe()\n",
    "print(\"Characteristics of anomalies:\")\n",
    "print(anomalies_description)"
   ]
  },
  {
   "cell_type": "code",
   "execution_count": null,
   "id": "2e7d7f49-5eb9-43d9-b397-35cd340d6345",
   "metadata": {
    "ExecuteTime": {
     "start_time": "2024-04-03T06:17:52.599730Z"
    }
   },
   "outputs": [],
   "source": [
    "# Visualizing clusters and outliers\n",
    "plt.figure(figsize=(10, 6))\n",
    "\n",
    "# Plotting clustered transactions\n",
    "plt.scatter(tr['BALANCE AMT'], tr['DATE_numeric'], c=labels, cmap='viridis', alpha=0.5)\n",
    "plt.colorbar(label='Cluster')\n",
    "plt.title('DBSCAN Clustering of Transactions')\n",
    "plt.xlabel('BALANCE AMT')\n",
    "plt.ylabel('DATE_numeric')\n",
    "plt.grid(True)\n",
    "\n",
    "# Highlighting anomalies\n",
    "plt.scatter(anomalies['BALANCE AMT'], anomalies['DATE_numeric'], color='red', label='Anomalies')\n",
    "plt.legend()\n",
    "\n",
    "plt.show()"
   ]
  },
  {
   "cell_type": "code",
   "execution_count": null,
   "id": "557b3665-40b9-4cef-a935-01aa61f33956",
   "metadata": {
    "ExecuteTime": {
     "start_time": "2024-04-03T06:17:52.600730Z"
    }
   },
   "outputs": [],
   "source": []
  }
 ],
 "metadata": {
  "kernelspec": {
   "display_name": "Python 3 (ipykernel)",
   "language": "python",
   "name": "python3"
  },
  "language_info": {
   "codemirror_mode": {
    "name": "ipython",
    "version": 3
   },
   "file_extension": ".py",
   "mimetype": "text/x-python",
   "name": "python",
   "nbconvert_exporter": "python",
   "pygments_lexer": "ipython3",
   "version": "3.11.7"
  }
 },
 "nbformat": 4,
 "nbformat_minor": 5
}
