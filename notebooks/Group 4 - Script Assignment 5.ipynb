{
 "cells": [
  {
   "cell_type": "markdown",
   "id": "00809add",
   "metadata": {},
   "source": [
    "# Group 4: Script Assignment 5\n",
    "\n",
    "1. Load the provided dataset containing financial news headlines and sentiment labels. Perform exploratory data analysis to understand the structure of the dataset, distribution of sentiment labels, and any other relevant insights. ( 5 points )\n",
    "2. Clean the text data by removing punctuation, special characters, and irrelevant symbols. Tokenize the headlines and convert them to lowercase for uniformity. Implement techniques like stemming or lemmatization to normalize the text data. ( 5 points )\n",
    "3. Convert the text data into numerical features suitable for machine learning models. You can use techniques like bag-of-words, TF-IDF, or word embeddings. Split the dataset into training and testing sets. ( 5 points )\n",
    "4. Choose appropriate machine learning algorithms (e.g., Naive Bayes, Support Vector Machines, or Neural Networks) for sentiment analysis. Train the model using the training data and evaluate its performance using appropriate evaluation metrics (accuracy, precision, recall, F1-score). ( 5 points )"
   ]
  },
  {
   "cell_type": "markdown",
   "source": [
    "## Import packages  "
   ],
   "metadata": {
    "collapsed": false
   },
   "id": "8524c31d721fbfc"
  },
  {
   "cell_type": "code",
   "execution_count": 16,
   "id": "14e1b023",
   "metadata": {
    "ExecuteTime": {
     "end_time": "2024-03-12T04:20:25.354560Z",
     "start_time": "2024-03-12T04:20:25.350809Z"
    }
   },
   "outputs": [],
   "source": [
    "# Load the required libraries\n",
    "import pandas as pd\n",
    "from sklearn.model_selection import train_test_split\n",
    "from sklearn.ensemble import RandomForestClassifier, GradientBoostingClassifier, VotingClassifier\n",
    "from sklearn.metrics import accuracy_score, precision_score, recall_score, f1_score, roc_auc_score\n",
    "from sklearn.impute import SimpleImputer\n",
    "from sklearn.preprocessing import LabelEncoder\n",
    "import nltk\n",
    "import re\n",
    "from nltk.tokenize import word_tokenize\n",
    "from nltk.corpus import stopwords\n",
    "from nltk.stem import WordNetLemmatizer\n",
    "from nltk.stem.snowball import SnowballStemmer\n",
    "from sklearn.feature_extraction.text import TfidfVectorizer\n",
    "from sklearn.model_selection import train_test_split\n",
    "from sklearn.svm import SVC\n",
    "from sklearn.metrics import accuracy_score, precision_score, recall_score, f1_score\n",
    "from nltk.sentiment.vader import SentimentIntensityAnalyzer"
   ]
  },
  {
   "cell_type": "markdown",
   "source": [
    "## Load NLTK Vader Lexicon"
   ],
   "metadata": {
    "collapsed": false
   },
   "id": "aa633b6bcce1947"
  },
  {
   "cell_type": "code",
   "outputs": [
    {
     "name": "stderr",
     "output_type": "stream",
     "text": [
      "[nltk_data] Downloading package vader_lexicon to\n",
      "[nltk_data]     C:\\Users\\vbort\\AppData\\Roaming\\nltk_data...\n",
      "[nltk_data]   Package vader_lexicon is already up-to-date!\n"
     ]
    },
    {
     "data": {
      "text/plain": "True"
     },
     "execution_count": 17,
     "metadata": {},
     "output_type": "execute_result"
    }
   ],
   "source": [
    "nltk.download('vader_lexicon')"
   ],
   "metadata": {
    "collapsed": false,
    "ExecuteTime": {
     "end_time": "2024-03-12T04:20:25.411216Z",
     "start_time": "2024-03-12T04:20:25.406573Z"
    }
   },
   "id": "677fd5da2caee839",
   "execution_count": 17
  },
  {
   "cell_type": "markdown",
   "id": "82a84aa1",
   "metadata": {},
   "source": [
    "## Load Data and Clean Null Values"
   ]
  },
  {
   "cell_type": "code",
   "execution_count": 32,
   "id": "337381e4",
   "metadata": {
    "ExecuteTime": {
     "end_time": "2024-03-12T04:59:06.921875Z",
     "start_time": "2024-03-12T04:59:06.907680Z"
    }
   },
   "outputs": [
    {
     "data": {
      "text/plain": "                                           Headlines  \\\n0  Jim Cramer: A better way to invest in the Covi...   \n1     Cramer's lightning round: I would own Teradyne   \n3  Cramer's week ahead: Big week for earnings, ev...   \n4  IQ Capital CEO Keith Bliss says tech and healt...   \n5  Wall Street delivered the 'kind of pullback I'...   \n\n                             Time  \\\n0   7:51  PM ET Fri, 17 July 2020   \n1   7:33  PM ET Fri, 17 July 2020   \n3   7:25  PM ET Fri, 17 July 2020   \n4   4:24  PM ET Fri, 17 July 2020   \n5   7:36  PM ET Thu, 16 July 2020   \n\n                                         Description  \n0  \"Mad Money\" host Jim Cramer recommended buying...  \n1  \"Mad Money\" host Jim Cramer rings the lightnin...  \n3  \"We'll pay more for the earnings of the non-Co...  \n4  Keith Bliss, IQ Capital CEO, joins \"Closing Be...  \n5  \"Look for the stocks of high-quality companies...  ",
      "text/html": "<div>\n<style scoped>\n    .dataframe tbody tr th:only-of-type {\n        vertical-align: middle;\n    }\n\n    .dataframe tbody tr th {\n        vertical-align: top;\n    }\n\n    .dataframe thead th {\n        text-align: right;\n    }\n</style>\n<table border=\"1\" class=\"dataframe\">\n  <thead>\n    <tr style=\"text-align: right;\">\n      <th></th>\n      <th>Headlines</th>\n      <th>Time</th>\n      <th>Description</th>\n    </tr>\n  </thead>\n  <tbody>\n    <tr>\n      <th>0</th>\n      <td>Jim Cramer: A better way to invest in the Covi...</td>\n      <td>7:51  PM ET Fri, 17 July 2020</td>\n      <td>\"Mad Money\" host Jim Cramer recommended buying...</td>\n    </tr>\n    <tr>\n      <th>1</th>\n      <td>Cramer's lightning round: I would own Teradyne</td>\n      <td>7:33  PM ET Fri, 17 July 2020</td>\n      <td>\"Mad Money\" host Jim Cramer rings the lightnin...</td>\n    </tr>\n    <tr>\n      <th>3</th>\n      <td>Cramer's week ahead: Big week for earnings, ev...</td>\n      <td>7:25  PM ET Fri, 17 July 2020</td>\n      <td>\"We'll pay more for the earnings of the non-Co...</td>\n    </tr>\n    <tr>\n      <th>4</th>\n      <td>IQ Capital CEO Keith Bliss says tech and healt...</td>\n      <td>4:24  PM ET Fri, 17 July 2020</td>\n      <td>Keith Bliss, IQ Capital CEO, joins \"Closing Be...</td>\n    </tr>\n    <tr>\n      <th>5</th>\n      <td>Wall Street delivered the 'kind of pullback I'...</td>\n      <td>7:36  PM ET Thu, 16 July 2020</td>\n      <td>\"Look for the stocks of high-quality companies...</td>\n    </tr>\n  </tbody>\n</table>\n</div>"
     },
     "execution_count": 32,
     "metadata": {},
     "output_type": "execute_result"
    }
   ],
   "source": [
    "# Load the CNBC headlines dataset\n",
    "filename = r'../data/cnbc_headlines.csv'\n",
    "cnbc_headlines = pd.read_csv(filename)\n",
    "\n",
    "# Drop NA\n",
    "cnbc_headlines = cnbc_headlines.dropna()\n",
    "\n",
    "# Display the original data after dropping NA\n",
    "cnbc_headlines.head()"
   ]
  },
  {
   "cell_type": "markdown",
   "source": [
    "## Calculate Sentiment\n",
    "\n",
    "The original dataset does not include label. We use the Natural Language Toolkit's Vader Sentiment Intensity Analyzer class to get and assign sentiments to the headlines."
   ],
   "metadata": {
    "collapsed": false
   },
   "id": "ae28501ee5e594ba"
  },
  {
   "cell_type": "code",
   "execution_count": 33,
   "id": "b5392b12",
   "metadata": {
    "ExecuteTime": {
     "end_time": "2024-03-12T05:00:10.658345Z",
     "start_time": "2024-03-12T05:00:10.443515Z"
    }
   },
   "outputs": [
    {
     "data": {
      "text/plain": "                                           Headlines  \\\n0  Jim Cramer: A better way to invest in the Covi...   \n1     Cramer's lightning round: I would own Teradyne   \n3  Cramer's week ahead: Big week for earnings, ev...   \n4  IQ Capital CEO Keith Bliss says tech and healt...   \n5  Wall Street delivered the 'kind of pullback I'...   \n\n                             Time  \\\n0   7:51  PM ET Fri, 17 July 2020   \n1   7:33  PM ET Fri, 17 July 2020   \n3   7:25  PM ET Fri, 17 July 2020   \n4   4:24  PM ET Fri, 17 July 2020   \n5   7:36  PM ET Thu, 16 July 2020   \n\n                                         Description  sentiment_score  \\\n0  \"Mad Money\" host Jim Cramer recommended buying...           0.4404   \n1  \"Mad Money\" host Jim Cramer rings the lightnin...           0.0000   \n3  \"We'll pay more for the earnings of the non-Co...           0.0000   \n4  Keith Bliss, IQ Capital CEO, joins \"Closing Be...           0.5719   \n5  \"Look for the stocks of high-quality companies...           0.0000   \n\n  Sentiment  \n0  Positive  \n1   Neutral  \n3   Neutral  \n4  Positive  \n5   Neutral  ",
      "text/html": "<div>\n<style scoped>\n    .dataframe tbody tr th:only-of-type {\n        vertical-align: middle;\n    }\n\n    .dataframe tbody tr th {\n        vertical-align: top;\n    }\n\n    .dataframe thead th {\n        text-align: right;\n    }\n</style>\n<table border=\"1\" class=\"dataframe\">\n  <thead>\n    <tr style=\"text-align: right;\">\n      <th></th>\n      <th>Headlines</th>\n      <th>Time</th>\n      <th>Description</th>\n      <th>sentiment_score</th>\n      <th>Sentiment</th>\n    </tr>\n  </thead>\n  <tbody>\n    <tr>\n      <th>0</th>\n      <td>Jim Cramer: A better way to invest in the Covi...</td>\n      <td>7:51  PM ET Fri, 17 July 2020</td>\n      <td>\"Mad Money\" host Jim Cramer recommended buying...</td>\n      <td>0.4404</td>\n      <td>Positive</td>\n    </tr>\n    <tr>\n      <th>1</th>\n      <td>Cramer's lightning round: I would own Teradyne</td>\n      <td>7:33  PM ET Fri, 17 July 2020</td>\n      <td>\"Mad Money\" host Jim Cramer rings the lightnin...</td>\n      <td>0.0000</td>\n      <td>Neutral</td>\n    </tr>\n    <tr>\n      <th>3</th>\n      <td>Cramer's week ahead: Big week for earnings, ev...</td>\n      <td>7:25  PM ET Fri, 17 July 2020</td>\n      <td>\"We'll pay more for the earnings of the non-Co...</td>\n      <td>0.0000</td>\n      <td>Neutral</td>\n    </tr>\n    <tr>\n      <th>4</th>\n      <td>IQ Capital CEO Keith Bliss says tech and healt...</td>\n      <td>4:24  PM ET Fri, 17 July 2020</td>\n      <td>Keith Bliss, IQ Capital CEO, joins \"Closing Be...</td>\n      <td>0.5719</td>\n      <td>Positive</td>\n    </tr>\n    <tr>\n      <th>5</th>\n      <td>Wall Street delivered the 'kind of pullback I'...</td>\n      <td>7:36  PM ET Thu, 16 July 2020</td>\n      <td>\"Look for the stocks of high-quality companies...</td>\n      <td>0.0000</td>\n      <td>Neutral</td>\n    </tr>\n  </tbody>\n</table>\n</div>"
     },
     "execution_count": 33,
     "metadata": {},
     "output_type": "execute_result"
    }
   ],
   "source": [
    "# The original dataset does not include label. We use the Natural Language Toolkit, vader, \n",
    "# SentimentIntensityAnalyzer module to get and assign sentiments to the headlines. \n",
    "\n",
    "analyzer = SentimentIntensityAnalyzer()\n",
    "\n",
    "\n",
    "# Extract sentiment score\n",
    "def get_sentiment_score(text):\n",
    "    sentiment_score = analyzer.polarity_scores(text)\n",
    "    return sentiment_score['compound']  # Using compound score for overall sentiment\n",
    "\n",
    "# Classify sentiment based on sentiment score\n",
    "def classify_sentiment(score):\n",
    "    if score >= 0.05:\n",
    "        return 'Positive'\n",
    "    elif score <= -0.05:\n",
    "        return 'Negative'\n",
    "    else:\n",
    "        return 'Neutral'\n",
    "\n",
    "# Assign sentiment score to the dataset\n",
    "cnbc_headlines['sentiment_score'] = cnbc_headlines['Headlines'].apply(get_sentiment_score)\n",
    "\n",
    "# Add sentiment label to the dataset\n",
    "cnbc_headlines['Sentiment'] = cnbc_headlines['sentiment_score'].apply(classify_sentiment)\n",
    "\n",
    "# Display the updated dataset\n",
    "cnbc_headlines.head()\n"
   ]
  },
  {
   "cell_type": "code",
   "execution_count": 22,
   "id": "94dcff8c",
   "metadata": {
    "ExecuteTime": {
     "end_time": "2024-03-12T04:20:25.681811Z",
     "start_time": "2024-03-12T04:20:25.668413Z"
    }
   },
   "outputs": [
    {
     "name": "stdout",
     "output_type": "stream",
     "text": [
      "<class 'pandas.core.frame.DataFrame'>\n",
      "Index: 2800 entries, 0 to 3079\n",
      "Data columns (total 5 columns):\n",
      " #   Column           Non-Null Count  Dtype  \n",
      "---  ------           --------------  -----  \n",
      " 0   Headlines        2800 non-null   object \n",
      " 1   Time             2800 non-null   object \n",
      " 2   Description      2800 non-null   object \n",
      " 3   sentiment_score  2800 non-null   float64\n",
      " 4   Sentiment        2800 non-null   object \n",
      "dtypes: float64(1), object(4)\n",
      "memory usage: 131.2+ KB\n"
     ]
    }
   ],
   "source": [
    "# Check the structure of the dataset\n",
    "cnbc_headlines.info()"
   ]
  },
  {
   "cell_type": "code",
   "execution_count": 23,
   "id": "88bc7c3a",
   "metadata": {
    "ExecuteTime": {
     "end_time": "2024-03-12T04:20:25.686041Z",
     "start_time": "2024-03-12T04:20:25.681811Z"
    }
   },
   "outputs": [
    {
     "data": {
      "text/plain": "Sentiment\nNeutral     1046\nPositive    1008\nNegative     746\nName: count, dtype: int64"
     },
     "execution_count": 23,
     "metadata": {},
     "output_type": "execute_result"
    }
   ],
   "source": [
    "# Check the distribution of sentiment labels\n",
    "cnbc_headlines['Sentiment'].value_counts()"
   ]
  },
  {
   "cell_type": "markdown",
   "id": "6197fcfd",
   "metadata": {},
   "source": [
    "2. Clean the text data by removing punctuation, special characters, and irrelevant symbols. Tokenize the headlines and convert them to lowercase for uniformity. Implement techniques like stemming or lemmatization to normalize the text data. "
   ]
  },
  {
   "cell_type": "code",
   "execution_count": 24,
   "id": "a2d88e57",
   "metadata": {
    "ExecuteTime": {
     "end_time": "2024-03-12T04:20:26.616976Z",
     "start_time": "2024-03-12T04:20:25.686041Z"
    }
   },
   "outputs": [
    {
     "name": "stderr",
     "output_type": "stream",
     "text": [
      "[nltk_data] Downloading package wordnet to\n",
      "[nltk_data]     C:\\Users\\vbort\\AppData\\Roaming\\nltk_data...\n",
      "[nltk_data]   Package wordnet is already up-to-date!\n"
     ]
    }
   ],
   "source": [
    "nltk.download('wordnet')\n",
    "\n",
    "# Remove punctuation, special characters, and irrelevant symbols\n",
    "def clean_text(text):\n",
    "    text = re.sub(r'[^\\w\\s]', '', text)\n",
    "    text = re.sub(r'\\d+', '', text)\n",
    "    text = text.lower()\n",
    "    return text\n",
    "\n",
    "# Tokenize the headlines and convert them to lowercase\n",
    "cnbc_headlines['cleaned_headline'] = cnbc_headlines['Headlines'].apply(clean_text)\n",
    "cnbc_headlines['tokenized_headline'] = cnbc_headlines['cleaned_headline'].apply(word_tokenize)\n",
    "\n",
    "# Initialize WordNet lemmatizer\n",
    "lemmatizer = WordNetLemmatizer()\n",
    "\n",
    "# Lemmatize the tokens\n",
    "cnbc_headlines['lemmatized_headline'] = cnbc_headlines['tokenized_headline'].apply(lambda x: [lemmatizer.lemmatize(word) for word in x])\n",
    "\n"
   ]
  },
  {
   "cell_type": "code",
   "execution_count": 25,
   "id": "e1a498b8",
   "metadata": {
    "ExecuteTime": {
     "end_time": "2024-03-12T04:20:26.625531Z",
     "start_time": "2024-03-12T04:20:26.617980Z"
    }
   },
   "outputs": [],
   "source": [
    "# Remove stopwords\n",
    "stop_words = set(stopwords.words('english'))\n",
    "cnbc_headlines['cleaned_headline'] = cnbc_headlines['lemmatized_headline'].apply(lambda x: [word for word in x if word not in stop_words])\n",
    "\n",
    "# Join the tokens back into sentences\n",
    "cnbc_headlines['cleaned_headline'] = cnbc_headlines['cleaned_headline'].apply(lambda x: ' '.join(x))"
   ]
  },
  {
   "cell_type": "code",
   "execution_count": 26,
   "id": "d4e73924",
   "metadata": {
    "ExecuteTime": {
     "end_time": "2024-03-12T04:20:26.639803Z",
     "start_time": "2024-03-12T04:20:26.625531Z"
    }
   },
   "outputs": [
    {
     "data": {
      "text/plain": "                                           Headlines  \\\n0  Jim Cramer: A better way to invest in the Covi...   \n1     Cramer's lightning round: I would own Teradyne   \n3  Cramer's week ahead: Big week for earnings, ev...   \n4  IQ Capital CEO Keith Bliss says tech and healt...   \n5  Wall Street delivered the 'kind of pullback I'...   \n\n                             Time  \\\n0   7:51  PM ET Fri, 17 July 2020   \n1   7:33  PM ET Fri, 17 July 2020   \n3   7:25  PM ET Fri, 17 July 2020   \n4   4:24  PM ET Fri, 17 July 2020   \n5   7:36  PM ET Thu, 16 July 2020   \n\n                                         Description  sentiment_score  \\\n0  \"Mad Money\" host Jim Cramer recommended buying...           0.4404   \n1  \"Mad Money\" host Jim Cramer rings the lightnin...           0.0000   \n3  \"We'll pay more for the earnings of the non-Co...           0.0000   \n4  Keith Bliss, IQ Capital CEO, joins \"Closing Be...           0.5719   \n5  \"Look for the stocks of high-quality companies...           0.0000   \n\n  Sentiment                                   cleaned_headline  \\\n0  Positive  jim cramer better way invest covid vaccine gol...   \n1   Neutral             cramers lightning round would teradyne   \n3   Neutral  cramers week ahead big week earnings even bigg...   \n4  Positive  iq capital ceo keith bliss say tech healthcare...   \n5   Neutral  wall street delivered kind pullback ive waitin...   \n\n                                  tokenized_headline  \\\n0  [jim, cramer, a, better, way, to, invest, in, ...   \n1  [cramers, lightning, round, i, would, own, ter...   \n3  [cramers, week, ahead, big, week, for, earning...   \n4  [iq, capital, ceo, keith, bliss, says, tech, a...   \n5  [wall, street, delivered, the, kind, of, pullb...   \n\n                                 lemmatized_headline  \n0  [jim, cramer, a, better, way, to, invest, in, ...  \n1  [cramers, lightning, round, i, would, own, ter...  \n3  [cramers, week, ahead, big, week, for, earning...  \n4  [iq, capital, ceo, keith, bliss, say, tech, an...  \n5  [wall, street, delivered, the, kind, of, pullb...  ",
      "text/html": "<div>\n<style scoped>\n    .dataframe tbody tr th:only-of-type {\n        vertical-align: middle;\n    }\n\n    .dataframe tbody tr th {\n        vertical-align: top;\n    }\n\n    .dataframe thead th {\n        text-align: right;\n    }\n</style>\n<table border=\"1\" class=\"dataframe\">\n  <thead>\n    <tr style=\"text-align: right;\">\n      <th></th>\n      <th>Headlines</th>\n      <th>Time</th>\n      <th>Description</th>\n      <th>sentiment_score</th>\n      <th>Sentiment</th>\n      <th>cleaned_headline</th>\n      <th>tokenized_headline</th>\n      <th>lemmatized_headline</th>\n    </tr>\n  </thead>\n  <tbody>\n    <tr>\n      <th>0</th>\n      <td>Jim Cramer: A better way to invest in the Covi...</td>\n      <td>7:51  PM ET Fri, 17 July 2020</td>\n      <td>\"Mad Money\" host Jim Cramer recommended buying...</td>\n      <td>0.4404</td>\n      <td>Positive</td>\n      <td>jim cramer better way invest covid vaccine gol...</td>\n      <td>[jim, cramer, a, better, way, to, invest, in, ...</td>\n      <td>[jim, cramer, a, better, way, to, invest, in, ...</td>\n    </tr>\n    <tr>\n      <th>1</th>\n      <td>Cramer's lightning round: I would own Teradyne</td>\n      <td>7:33  PM ET Fri, 17 July 2020</td>\n      <td>\"Mad Money\" host Jim Cramer rings the lightnin...</td>\n      <td>0.0000</td>\n      <td>Neutral</td>\n      <td>cramers lightning round would teradyne</td>\n      <td>[cramers, lightning, round, i, would, own, ter...</td>\n      <td>[cramers, lightning, round, i, would, own, ter...</td>\n    </tr>\n    <tr>\n      <th>3</th>\n      <td>Cramer's week ahead: Big week for earnings, ev...</td>\n      <td>7:25  PM ET Fri, 17 July 2020</td>\n      <td>\"We'll pay more for the earnings of the non-Co...</td>\n      <td>0.0000</td>\n      <td>Neutral</td>\n      <td>cramers week ahead big week earnings even bigg...</td>\n      <td>[cramers, week, ahead, big, week, for, earning...</td>\n      <td>[cramers, week, ahead, big, week, for, earning...</td>\n    </tr>\n    <tr>\n      <th>4</th>\n      <td>IQ Capital CEO Keith Bliss says tech and healt...</td>\n      <td>4:24  PM ET Fri, 17 July 2020</td>\n      <td>Keith Bliss, IQ Capital CEO, joins \"Closing Be...</td>\n      <td>0.5719</td>\n      <td>Positive</td>\n      <td>iq capital ceo keith bliss say tech healthcare...</td>\n      <td>[iq, capital, ceo, keith, bliss, says, tech, a...</td>\n      <td>[iq, capital, ceo, keith, bliss, say, tech, an...</td>\n    </tr>\n    <tr>\n      <th>5</th>\n      <td>Wall Street delivered the 'kind of pullback I'...</td>\n      <td>7:36  PM ET Thu, 16 July 2020</td>\n      <td>\"Look for the stocks of high-quality companies...</td>\n      <td>0.0000</td>\n      <td>Neutral</td>\n      <td>wall street delivered kind pullback ive waitin...</td>\n      <td>[wall, street, delivered, the, kind, of, pullb...</td>\n      <td>[wall, street, delivered, the, kind, of, pullb...</td>\n    </tr>\n  </tbody>\n</table>\n</div>"
     },
     "execution_count": 26,
     "metadata": {},
     "output_type": "execute_result"
    }
   ],
   "source": [
    "cnbc_headlines.head()"
   ]
  },
  {
   "cell_type": "markdown",
   "id": "a0d5b6bf",
   "metadata": {},
   "source": [
    "3.\tConvert the text data into numerical features suitable for machine learning models. You can use techniques like bag-of-words, TF-IDF, or word embeddings. Split the dataset into training and testing sets. "
   ]
  },
  {
   "cell_type": "code",
   "execution_count": 27,
   "id": "fe3758bc",
   "metadata": {
    "ExecuteTime": {
     "end_time": "2024-03-12T04:20:26.666567Z",
     "start_time": "2024-03-12T04:20:26.640808Z"
    }
   },
   "outputs": [],
   "source": [
    "# Convert the text data into numerical features using TfidfVectorizer\n",
    "tfidf_vectorizer = TfidfVectorizer(max_features=1000)  \n",
    "X = tfidf_vectorizer.fit_transform(cnbc_headlines['Headlines'])\n",
    "y = cnbc_headlines['Sentiment']"
   ]
  },
  {
   "cell_type": "code",
   "execution_count": 28,
   "id": "36fa9f23",
   "metadata": {
    "ExecuteTime": {
     "end_time": "2024-03-12T04:20:26.670899Z",
     "start_time": "2024-03-12T04:20:26.666567Z"
    }
   },
   "outputs": [],
   "source": [
    "# Split the dataset into training and testing sets\n",
    "X_train, X_test, y_train, y_test = train_test_split(X, y, test_size=0.2, random_state=42)"
   ]
  },
  {
   "cell_type": "markdown",
   "id": "c7355be0",
   "metadata": {},
   "source": [
    "4.\tChoose appropriate machine learning algorithms (e.g., Naive Bayes, Support Vector Machines, or Neural Networks) for sentiment analysis. Train the model using the training data and evaluate its performance using appropriate evaluation metrics (accuracy, precision, recall, F1-score). "
   ]
  },
  {
   "cell_type": "code",
   "execution_count": 29,
   "id": "b639748f",
   "metadata": {
    "ExecuteTime": {
     "end_time": "2024-03-12T04:20:27.295663Z",
     "start_time": "2024-03-12T04:20:26.670899Z"
    }
   },
   "outputs": [],
   "source": [
    "# Sentiment analysis with Support Vector Machines\n",
    "# Initialize SVM classifier\n",
    "svm_classifier = SVC()\n",
    "\n",
    "# Train the model\n",
    "svm_classifier.fit(X_train, y_train)\n",
    "\n",
    "# Predict sentiment labels for the test set\n",
    "y_pred = svm_classifier.predict(X_test)\n",
    "\n",
    "# Evaluate the performance of the model\n",
    "accuracy = accuracy_score(y_test, y_pred)\n",
    "precision = precision_score(y_test, y_pred, average='weighted')\n",
    "recall = recall_score(y_test, y_pred, average='weighted')\n",
    "f1 = f1_score(y_test, y_pred, average='weighted')"
   ]
  },
  {
   "cell_type": "code",
   "execution_count": 30,
   "id": "ea079e3e",
   "metadata": {
    "ExecuteTime": {
     "end_time": "2024-03-12T04:20:27.299137Z",
     "start_time": "2024-03-12T04:20:27.295663Z"
    }
   },
   "outputs": [
    {
     "name": "stdout",
     "output_type": "stream",
     "text": [
      "Accuracy: 0.6089285714285714\n",
      "Precision: 0.6645849297573436\n",
      "Recall: 0.6089285714285714\n",
      "F1 Score: 0.6027940528832338\n"
     ]
    }
   ],
   "source": [
    "# Display metrics \n",
    "\n",
    "print(\"Accuracy:\", accuracy)\n",
    "print(\"Precision:\", precision)\n",
    "print(\"Recall:\", recall)\n",
    "print(\"F1 Score:\", f1)"
   ]
  },
  {
   "cell_type": "code",
   "execution_count": 31,
   "id": "da057958",
   "metadata": {
    "ExecuteTime": {
     "end_time": "2024-03-12T04:20:27.313200Z",
     "start_time": "2024-03-12T04:20:27.299137Z"
    }
   },
   "outputs": [
    {
     "name": "stdout",
     "output_type": "stream",
     "text": [
      "Accuracy: 0.5839285714285715\n",
      "Precision: 0.6252564935064936\n",
      "Recall: 0.5839285714285715\n",
      "F1 Score: 0.5774796409319105\n"
     ]
    }
   ],
   "source": [
    "# Sentiment analysis with Naive Bayes\n",
    "\n",
    "from sklearn.naive_bayes import MultinomialNB\n",
    "\n",
    "# Initialize Naive Bayes classifier\n",
    "nb_classifier = MultinomialNB()\n",
    "\n",
    "# Train the model\n",
    "nb_classifier.fit(X_train, y_train)\n",
    "\n",
    "# Predict sentiment labels for the test set\n",
    "y_pred = nb_classifier.predict(X_test)\n",
    "\n",
    "# Evaluate the performance of the model\n",
    "accuracy = accuracy_score(y_test, y_pred)\n",
    "precision = precision_score(y_test, y_pred, average='weighted')\n",
    "recall = recall_score(y_test, y_pred, average='weighted')\n",
    "f1 = f1_score(y_test, y_pred, average='weighted')\n",
    "\n",
    "print(\"Accuracy:\", accuracy)\n",
    "print(\"Precision:\", precision)\n",
    "print(\"Recall:\", recall)\n",
    "print(\"F1 Score:\", f1)"
   ]
  },
  {
   "cell_type": "code",
   "execution_count": 31,
   "id": "b77c38e3",
   "metadata": {
    "ExecuteTime": {
     "end_time": "2024-03-12T04:20:27.315467Z",
     "start_time": "2024-03-12T04:20:27.313200Z"
    }
   },
   "outputs": [],
   "source": []
  }
 ],
 "metadata": {
  "kernelspec": {
   "display_name": "Python 3 (ipykernel)",
   "language": "python",
   "name": "python3"
  },
  "language_info": {
   "codemirror_mode": {
    "name": "ipython",
    "version": 3
   },
   "file_extension": ".py",
   "mimetype": "text/x-python",
   "name": "python",
   "nbconvert_exporter": "python",
   "pygments_lexer": "ipython3",
   "version": "3.11.4"
  }
 },
 "nbformat": 4,
 "nbformat_minor": 5
}
