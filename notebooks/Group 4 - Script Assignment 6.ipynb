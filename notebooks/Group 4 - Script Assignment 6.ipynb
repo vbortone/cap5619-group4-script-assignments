{
 "cells": [
  {
   "cell_type": "code",
   "execution_count": 5,
   "id": "8cba9d0148c0b069",
   "metadata": {
    "collapsed": false,
    "ExecuteTime": {
     "end_time": "2024-04-01T00:13:21.451974Z",
     "start_time": "2024-04-01T00:13:16.094225Z"
    }
   },
   "outputs": [
    {
     "name": "stdout",
     "output_type": "stream",
     "text": [
      "<class 'pandas.core.frame.DataFrame'>\n",
      "RangeIndex: 116201 entries, 0 to 116200\n",
      "Data columns (total 9 columns):\n",
      " #   Column               Non-Null Count   Dtype         \n",
      "---  ------               --------------   -----         \n",
      " 0   Account No           116201 non-null  object        \n",
      " 1   DATE                 116201 non-null  datetime64[ns]\n",
      " 2   TRANSACTION DETAILS  113702 non-null  object        \n",
      " 3   CHQ.NO.              905 non-null     float64       \n",
      " 4   VALUE DATE           116201 non-null  datetime64[ns]\n",
      " 5   WITHDRAWAL AMT       53549 non-null   float64       \n",
      " 6   DEPOSIT AMT          62652 non-null   float64       \n",
      " 7   BALANCE AMT          116201 non-null  float64       \n",
      " 8   .                    116201 non-null  object        \n",
      "dtypes: datetime64[ns](2), float64(4), object(3)\n",
      "memory usage: 8.0+ MB\n"
     ]
    }
   ],
   "source": [
    "import pandas as pd\n",
    "import matplotlib.pyplot as plt\n",
    "from sklearn.preprocessing import StandardScaler\n",
    "from sklearn.cluster import DBSCAN\n",
    "\n",
    "# Load transaction data from the chosen file\n",
    "transactions = pd.read_excel('../data/bank.xlsx')\n",
    "transactions.info()"
   ]
  },
  {
   "cell_type": "code",
   "outputs": [
    {
     "data": {
      "text/plain": "                                DATE        CHQ.NO.  \\\ncount                         116201     905.000000   \nmean   2017-05-20 00:08:40.477448448  791614.503867   \nmin              2015-01-01 00:00:00       1.000000   \n25%              2016-05-30 00:00:00  704231.000000   \n50%              2017-06-05 00:00:00  873812.000000   \n75%              2018-05-26 00:00:00  874167.000000   \nmax              2019-03-05 00:00:00  874525.000000   \nstd                              NaN  151205.932910   \n\n                          VALUE DATE  WITHDRAWAL AMT   DEPOSIT AMT  \\\ncount                         116201    5.354900e+04  6.265200e+04   \nmean   2017-05-20 00:04:43.288439808    4.489190e+06  3.806586e+06   \nmin              2015-01-01 00:00:00    1.000000e-02  1.000000e-02   \n25%              2016-05-30 00:00:00    3.000000e+03  9.900000e+04   \n50%              2017-06-05 00:00:00    4.708300e+04  4.265000e+05   \n75%              2018-05-26 00:00:00    5.000000e+06  4.746411e+06   \nmax              2019-03-05 00:00:00    4.594475e+08  5.448000e+08   \nstd                              NaN    1.084850e+07  8.683093e+06   \n\n        BALANCE AMT  \ncount  1.162010e+05  \nmean  -1.404852e+09  \nmin   -2.045201e+09  \n25%   -1.690383e+09  \n50%   -1.661395e+09  \n75%   -1.236888e+09  \nmax    8.500000e+06  \nstd    5.348202e+08  ",
      "text/html": "<div>\n<style scoped>\n    .dataframe tbody tr th:only-of-type {\n        vertical-align: middle;\n    }\n\n    .dataframe tbody tr th {\n        vertical-align: top;\n    }\n\n    .dataframe thead th {\n        text-align: right;\n    }\n</style>\n<table border=\"1\" class=\"dataframe\">\n  <thead>\n    <tr style=\"text-align: right;\">\n      <th></th>\n      <th>DATE</th>\n      <th>CHQ.NO.</th>\n      <th>VALUE DATE</th>\n      <th>WITHDRAWAL AMT</th>\n      <th>DEPOSIT AMT</th>\n      <th>BALANCE AMT</th>\n    </tr>\n  </thead>\n  <tbody>\n    <tr>\n      <th>count</th>\n      <td>116201</td>\n      <td>905.000000</td>\n      <td>116201</td>\n      <td>5.354900e+04</td>\n      <td>6.265200e+04</td>\n      <td>1.162010e+05</td>\n    </tr>\n    <tr>\n      <th>mean</th>\n      <td>2017-05-20 00:08:40.477448448</td>\n      <td>791614.503867</td>\n      <td>2017-05-20 00:04:43.288439808</td>\n      <td>4.489190e+06</td>\n      <td>3.806586e+06</td>\n      <td>-1.404852e+09</td>\n    </tr>\n    <tr>\n      <th>min</th>\n      <td>2015-01-01 00:00:00</td>\n      <td>1.000000</td>\n      <td>2015-01-01 00:00:00</td>\n      <td>1.000000e-02</td>\n      <td>1.000000e-02</td>\n      <td>-2.045201e+09</td>\n    </tr>\n    <tr>\n      <th>25%</th>\n      <td>2016-05-30 00:00:00</td>\n      <td>704231.000000</td>\n      <td>2016-05-30 00:00:00</td>\n      <td>3.000000e+03</td>\n      <td>9.900000e+04</td>\n      <td>-1.690383e+09</td>\n    </tr>\n    <tr>\n      <th>50%</th>\n      <td>2017-06-05 00:00:00</td>\n      <td>873812.000000</td>\n      <td>2017-06-05 00:00:00</td>\n      <td>4.708300e+04</td>\n      <td>4.265000e+05</td>\n      <td>-1.661395e+09</td>\n    </tr>\n    <tr>\n      <th>75%</th>\n      <td>2018-05-26 00:00:00</td>\n      <td>874167.000000</td>\n      <td>2018-05-26 00:00:00</td>\n      <td>5.000000e+06</td>\n      <td>4.746411e+06</td>\n      <td>-1.236888e+09</td>\n    </tr>\n    <tr>\n      <th>max</th>\n      <td>2019-03-05 00:00:00</td>\n      <td>874525.000000</td>\n      <td>2019-03-05 00:00:00</td>\n      <td>4.594475e+08</td>\n      <td>5.448000e+08</td>\n      <td>8.500000e+06</td>\n    </tr>\n    <tr>\n      <th>std</th>\n      <td>NaN</td>\n      <td>151205.932910</td>\n      <td>NaN</td>\n      <td>1.084850e+07</td>\n      <td>8.683093e+06</td>\n      <td>5.348202e+08</td>\n    </tr>\n  </tbody>\n</table>\n</div>"
     },
     "execution_count": 6,
     "metadata": {},
     "output_type": "execute_result"
    }
   ],
   "source": [
    "transactions.describe()"
   ],
   "metadata": {
    "collapsed": false,
    "ExecuteTime": {
     "end_time": "2024-04-01T00:13:38.965271Z",
     "start_time": "2024-04-01T00:13:38.930688Z"
    }
   },
   "id": "63befa541b8e872b",
   "execution_count": 6
  },
  {
   "cell_type": "code",
   "outputs": [
    {
     "data": {
      "text/plain": "Account No                  0\nDATE                        0\nTRANSACTION DETAILS      2499\nCHQ.NO.                115296\nVALUE DATE                  0\nWITHDRAWAL AMT          62652\nDEPOSIT AMT             53549\nBALANCE AMT                 0\n.                           0\ndtype: int64"
     },
     "execution_count": 7,
     "metadata": {},
     "output_type": "execute_result"
    }
   ],
   "source": [
    "transactions.isnull().sum()"
   ],
   "metadata": {
    "collapsed": false,
    "ExecuteTime": {
     "end_time": "2024-04-01T00:14:05.867446Z",
     "start_time": "2024-04-01T00:14:05.853124Z"
    }
   },
   "id": "96c47f12f1317931",
   "execution_count": 7
  },
  {
   "cell_type": "code",
   "outputs": [],
   "source": [
    "\n",
    "# Standardize the data\n",
    "scaler = StandardScaler()\n",
    "transactions_scaled = scaler.fit_transform(transactions)\n",
    "\n",
    "# DBSCAN clustering\n",
    "eps_values = [0.1, 0.5, 1.0]  \n",
    "min_samples_values = [5, 10, 15]  \n",
    "\n",
    "best_score = -1\n",
    "best_params = None\n",
    "best_labels = None\n",
    "\n",
    "# Number of clusters, ignoring noise\n",
    "for eps in eps_values:\n",
    "    for min_samples in min_samples_values:\n",
    "        dbscan = DBSCAN(eps=eps, min_samples=min_samples)\n",
    "        labels = dbscan.fit_predict(transactions_scaled)\n",
    "        score = len(set(labels)) - (1 if -1 in labels else 0)  \n",
    "        if score > best_score:\n",
    "            best_score = score\n",
    "            best_params = (eps, min_samples)\n",
    "            best_labels = labels\n",
    "\n",
    "# Extracting the best parameters and clustering results\n",
    "best_eps, best_min_samples = best_params\n",
    "print(\"Best parameters: eps={}, min_samples={}\".format(best_eps, best_min_samples))\n",
    "print(\"Number of clusters found:\", best_score)\n",
    "\n",
    "# Assigning cluster labels to the original data\n",
    "transactions['cluster'] = best_labels\n",
    "\n",
    "# Accessing clustered transactions\n",
    "for cluster_id in transactions['cluster'].unique():\n",
    "    cluster_transactions = transactions[transactions['cluster'] == cluster_id]\n",
    "    print(f\"Cluster {cluster_id}:\")\n",
    "    print(cluster_transactions.head())\n",
    "\n",
    "# Analyzing anomalies\n",
    "anomaly_mask = best_labels == -1  \n",
    "anomalies = transactions[anomaly_mask]\n",
    "\n",
    "# Analyzing characteristics of anomalies\n",
    "anomalies_description = anomalies.describe()\n",
    "print(\"Characteristics of anomalies:\")\n",
    "print(anomalies_description)\n",
    "\n",
    "# Visualizing clusters and outliers\n",
    "plt.figure(figsize=(10, 6))\n",
    "\n",
    "# Plotting clustered transactions\n",
    "plt.scatter(transactions['BALANCE AMT'], transactions['DATE'], c=labels, cmap='viridis', alpha=0.5)\n",
    "plt.colorbar(label='Cluster')\n",
    "plt.title('DBSCAN Clustering of Transactions')\n",
    "plt.xlabel('BALANCE AMT')\n",
    "plt.ylabel('DATE')\n",
    "plt.grid(True)\n",
    "\n",
    "# Highlighting anomalies\n",
    "plt.scatter(anomalies['BALANCE AMT'], anomalies['DATE'], color='red', label='Anomalies')\n",
    "plt.legend()\n",
    "\n",
    "plt.show()"
   ],
   "metadata": {},
   "id": "42bd17f3",
   "execution_count": 0
  }
 ],
 "metadata": {
  "kernelspec": {
   "display_name": "Python 3 (ipykernel)",
   "language": "python",
   "name": "python3"
  },
  "language_info": {
   "codemirror_mode": {
    "name": "ipython",
    "version": 3
   },
   "file_extension": ".py",
   "mimetype": "text/x-python",
   "name": "python",
   "nbconvert_exporter": "python",
   "pygments_lexer": "ipython3",
   "version": "3.11.3"
  }
 },
 "nbformat": 4,
 "nbformat_minor": 5
}
