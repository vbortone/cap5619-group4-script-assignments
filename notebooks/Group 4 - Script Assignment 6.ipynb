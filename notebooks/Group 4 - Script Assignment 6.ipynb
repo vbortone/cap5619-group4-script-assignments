{
 "cells": [
  {
   "cell_type": "markdown",
   "source": [
    "# Group 4 - Script Assignment 6 \n",
    "\n",
    "## Problem Statement\n",
    "\n",
    "In Financial Technology (FinTech), anomaly detection plays a crucial role in identifying fraudulent activities such as money laundering or unauthorized transactions. One popular method for anomaly detection is DBSCAN (Density-Based Spatial Clustering of Applications with Noise), which effectively identifies clusters of data points that are closely packed together while marking outliers as noise. In this assignment, you are tasked with implementing a Python script to detect anomalous transactions in financial data using DBSCAN.\n",
    "\n",
    "## Download the provided financial transaction datasetLinks to an external site. Preprocess the data if necessary (e.g., normalization, feature engineering). (5 points)\n",
    "\n",
    "### Imports and Read File"
   ],
   "metadata": {
    "collapsed": false
   },
   "id": "c7e79305bbd57843"
  },
  {
   "cell_type": "code",
   "execution_count": 27,
   "id": "4830550e80957fc8",
   "metadata": {
    "collapsed": false,
    "ExecuteTime": {
     "end_time": "2024-04-02T03:31:13.811276Z",
     "start_time": "2024-04-02T03:31:08.818172Z"
    }
   },
   "outputs": [
    {
     "data": {
      "text/plain": "           Account No       DATE               TRANSACTION DETAILS  CHQ.NO.  \\\n0       409000611074' 2017-06-29  TRF FROM  Indiaforensic SERVICES      NaN   \n1       409000611074' 2017-07-05  TRF FROM  Indiaforensic SERVICES      NaN   \n2       409000611074' 2017-07-18        FDRL/INTERNAL FUND TRANSFE      NaN   \n3       409000611074' 2017-08-01   TRF FRM  Indiaforensic SERVICES      NaN   \n4       409000611074' 2017-08-16        FDRL/INTERNAL FUND TRANSFE      NaN   \n...               ...        ...                               ...      ...   \n116196  409000362497' 2019-03-05  TRF TO 1196428  Indiaforensic SE      NaN   \n116197  409000362497' 2019-03-05        FDRL/INTERNAL FUND TRANSFE      NaN   \n116198  409000362497' 2019-03-05        FDRL/INTERNAL FUND TRANSFE      NaN   \n116199  409000362497' 2019-03-05                 IMPS 05-03-20194C      NaN   \n116200  409000362497' 2019-03-05         Sweep Trf To: 40900036427      NaN   \n\n       VALUE DATE  WITHDRAWAL AMT  DEPOSIT AMT   BALANCE AMT  .  \n0      2017-06-29             NaN    1000000.0  1.000000e+06  .  \n1      2017-07-05             NaN    1000000.0  2.000000e+06  .  \n2      2017-07-18             NaN     500000.0  2.500000e+06  .  \n3      2017-08-01             NaN    3000000.0  5.500000e+06  .  \n4      2017-08-16             NaN     500000.0  6.000000e+06  .  \n...           ...             ...          ...           ... ..  \n116196 2019-03-05       117934.30          NaN -1.901902e+09  .  \n116197 2019-03-05             NaN     300000.0 -1.901602e+09  .  \n116198 2019-03-05             NaN     300000.0 -1.901302e+09  .  \n116199 2019-03-05       109868.65          NaN -1.901412e+09  .  \n116200 2019-03-05         5000.00          NaN -1.901417e+09  .  \n\n[116201 rows x 9 columns]",
      "text/html": "<div>\n<style scoped>\n    .dataframe tbody tr th:only-of-type {\n        vertical-align: middle;\n    }\n\n    .dataframe tbody tr th {\n        vertical-align: top;\n    }\n\n    .dataframe thead th {\n        text-align: right;\n    }\n</style>\n<table border=\"1\" class=\"dataframe\">\n  <thead>\n    <tr style=\"text-align: right;\">\n      <th></th>\n      <th>Account No</th>\n      <th>DATE</th>\n      <th>TRANSACTION DETAILS</th>\n      <th>CHQ.NO.</th>\n      <th>VALUE DATE</th>\n      <th>WITHDRAWAL AMT</th>\n      <th>DEPOSIT AMT</th>\n      <th>BALANCE AMT</th>\n      <th>.</th>\n    </tr>\n  </thead>\n  <tbody>\n    <tr>\n      <th>0</th>\n      <td>409000611074'</td>\n      <td>2017-06-29</td>\n      <td>TRF FROM  Indiaforensic SERVICES</td>\n      <td>NaN</td>\n      <td>2017-06-29</td>\n      <td>NaN</td>\n      <td>1000000.0</td>\n      <td>1.000000e+06</td>\n      <td>.</td>\n    </tr>\n    <tr>\n      <th>1</th>\n      <td>409000611074'</td>\n      <td>2017-07-05</td>\n      <td>TRF FROM  Indiaforensic SERVICES</td>\n      <td>NaN</td>\n      <td>2017-07-05</td>\n      <td>NaN</td>\n      <td>1000000.0</td>\n      <td>2.000000e+06</td>\n      <td>.</td>\n    </tr>\n    <tr>\n      <th>2</th>\n      <td>409000611074'</td>\n      <td>2017-07-18</td>\n      <td>FDRL/INTERNAL FUND TRANSFE</td>\n      <td>NaN</td>\n      <td>2017-07-18</td>\n      <td>NaN</td>\n      <td>500000.0</td>\n      <td>2.500000e+06</td>\n      <td>.</td>\n    </tr>\n    <tr>\n      <th>3</th>\n      <td>409000611074'</td>\n      <td>2017-08-01</td>\n      <td>TRF FRM  Indiaforensic SERVICES</td>\n      <td>NaN</td>\n      <td>2017-08-01</td>\n      <td>NaN</td>\n      <td>3000000.0</td>\n      <td>5.500000e+06</td>\n      <td>.</td>\n    </tr>\n    <tr>\n      <th>4</th>\n      <td>409000611074'</td>\n      <td>2017-08-16</td>\n      <td>FDRL/INTERNAL FUND TRANSFE</td>\n      <td>NaN</td>\n      <td>2017-08-16</td>\n      <td>NaN</td>\n      <td>500000.0</td>\n      <td>6.000000e+06</td>\n      <td>.</td>\n    </tr>\n    <tr>\n      <th>...</th>\n      <td>...</td>\n      <td>...</td>\n      <td>...</td>\n      <td>...</td>\n      <td>...</td>\n      <td>...</td>\n      <td>...</td>\n      <td>...</td>\n      <td>...</td>\n    </tr>\n    <tr>\n      <th>116196</th>\n      <td>409000362497'</td>\n      <td>2019-03-05</td>\n      <td>TRF TO 1196428  Indiaforensic SE</td>\n      <td>NaN</td>\n      <td>2019-03-05</td>\n      <td>117934.30</td>\n      <td>NaN</td>\n      <td>-1.901902e+09</td>\n      <td>.</td>\n    </tr>\n    <tr>\n      <th>116197</th>\n      <td>409000362497'</td>\n      <td>2019-03-05</td>\n      <td>FDRL/INTERNAL FUND TRANSFE</td>\n      <td>NaN</td>\n      <td>2019-03-05</td>\n      <td>NaN</td>\n      <td>300000.0</td>\n      <td>-1.901602e+09</td>\n      <td>.</td>\n    </tr>\n    <tr>\n      <th>116198</th>\n      <td>409000362497'</td>\n      <td>2019-03-05</td>\n      <td>FDRL/INTERNAL FUND TRANSFE</td>\n      <td>NaN</td>\n      <td>2019-03-05</td>\n      <td>NaN</td>\n      <td>300000.0</td>\n      <td>-1.901302e+09</td>\n      <td>.</td>\n    </tr>\n    <tr>\n      <th>116199</th>\n      <td>409000362497'</td>\n      <td>2019-03-05</td>\n      <td>IMPS 05-03-20194C</td>\n      <td>NaN</td>\n      <td>2019-03-05</td>\n      <td>109868.65</td>\n      <td>NaN</td>\n      <td>-1.901412e+09</td>\n      <td>.</td>\n    </tr>\n    <tr>\n      <th>116200</th>\n      <td>409000362497'</td>\n      <td>2019-03-05</td>\n      <td>Sweep Trf To: 40900036427</td>\n      <td>NaN</td>\n      <td>2019-03-05</td>\n      <td>5000.00</td>\n      <td>NaN</td>\n      <td>-1.901417e+09</td>\n      <td>.</td>\n    </tr>\n  </tbody>\n</table>\n<p>116201 rows × 9 columns</p>\n</div>"
     },
     "execution_count": 27,
     "metadata": {},
     "output_type": "execute_result"
    }
   ],
   "source": [
    "import pandas as pd\n",
    "import matplotlib.pyplot as plt\n",
    "from sklearn.preprocessing import StandardScaler\n",
    "from sklearn.cluster import DBSCAN\n",
    "\n",
    "# Load transaction data from the chosen file\n",
    "transactions = pd.read_excel('../data/bank.xlsx')\n",
    "transactions"
   ]
  },
  {
   "cell_type": "markdown",
   "source": [
    "### Review dataset"
   ],
   "metadata": {
    "collapsed": false
   },
   "id": "654b9ae32776e06f"
  },
  {
   "cell_type": "code",
   "outputs": [],
   "source": [],
   "metadata": {
    "collapsed": false,
    "ExecuteTime": {
     "end_time": "2024-04-02T03:31:13.813541Z",
     "start_time": "2024-04-02T03:31:13.811276Z"
    }
   },
   "id": "8cba9d0148c0b069",
   "execution_count": 27
  },
  {
   "cell_type": "code",
   "outputs": [
    {
     "data": {
      "text/plain": "                                DATE        CHQ.NO.  \\\ncount                         116201     905.000000   \nmean   2017-05-20 00:08:40.477448448  791614.503867   \nmin              2015-01-01 00:00:00       1.000000   \n25%              2016-05-30 00:00:00  704231.000000   \n50%              2017-06-05 00:00:00  873812.000000   \n75%              2018-05-26 00:00:00  874167.000000   \nmax              2019-03-05 00:00:00  874525.000000   \nstd                              NaN  151205.932910   \n\n                          VALUE DATE  WITHDRAWAL AMT   DEPOSIT AMT  \\\ncount                         116201    5.354900e+04  6.265200e+04   \nmean   2017-05-20 00:04:43.288439808    4.489190e+06  3.806586e+06   \nmin              2015-01-01 00:00:00    1.000000e-02  1.000000e-02   \n25%              2016-05-30 00:00:00    3.000000e+03  9.900000e+04   \n50%              2017-06-05 00:00:00    4.708300e+04  4.265000e+05   \n75%              2018-05-26 00:00:00    5.000000e+06  4.746411e+06   \nmax              2019-03-05 00:00:00    4.594475e+08  5.448000e+08   \nstd                              NaN    1.084850e+07  8.683093e+06   \n\n        BALANCE AMT  \ncount  1.162010e+05  \nmean  -1.404852e+09  \nmin   -2.045201e+09  \n25%   -1.690383e+09  \n50%   -1.661395e+09  \n75%   -1.236888e+09  \nmax    8.500000e+06  \nstd    5.348202e+08  ",
      "text/html": "<div>\n<style scoped>\n    .dataframe tbody tr th:only-of-type {\n        vertical-align: middle;\n    }\n\n    .dataframe tbody tr th {\n        vertical-align: top;\n    }\n\n    .dataframe thead th {\n        text-align: right;\n    }\n</style>\n<table border=\"1\" class=\"dataframe\">\n  <thead>\n    <tr style=\"text-align: right;\">\n      <th></th>\n      <th>DATE</th>\n      <th>CHQ.NO.</th>\n      <th>VALUE DATE</th>\n      <th>WITHDRAWAL AMT</th>\n      <th>DEPOSIT AMT</th>\n      <th>BALANCE AMT</th>\n    </tr>\n  </thead>\n  <tbody>\n    <tr>\n      <th>count</th>\n      <td>116201</td>\n      <td>905.000000</td>\n      <td>116201</td>\n      <td>5.354900e+04</td>\n      <td>6.265200e+04</td>\n      <td>1.162010e+05</td>\n    </tr>\n    <tr>\n      <th>mean</th>\n      <td>2017-05-20 00:08:40.477448448</td>\n      <td>791614.503867</td>\n      <td>2017-05-20 00:04:43.288439808</td>\n      <td>4.489190e+06</td>\n      <td>3.806586e+06</td>\n      <td>-1.404852e+09</td>\n    </tr>\n    <tr>\n      <th>min</th>\n      <td>2015-01-01 00:00:00</td>\n      <td>1.000000</td>\n      <td>2015-01-01 00:00:00</td>\n      <td>1.000000e-02</td>\n      <td>1.000000e-02</td>\n      <td>-2.045201e+09</td>\n    </tr>\n    <tr>\n      <th>25%</th>\n      <td>2016-05-30 00:00:00</td>\n      <td>704231.000000</td>\n      <td>2016-05-30 00:00:00</td>\n      <td>3.000000e+03</td>\n      <td>9.900000e+04</td>\n      <td>-1.690383e+09</td>\n    </tr>\n    <tr>\n      <th>50%</th>\n      <td>2017-06-05 00:00:00</td>\n      <td>873812.000000</td>\n      <td>2017-06-05 00:00:00</td>\n      <td>4.708300e+04</td>\n      <td>4.265000e+05</td>\n      <td>-1.661395e+09</td>\n    </tr>\n    <tr>\n      <th>75%</th>\n      <td>2018-05-26 00:00:00</td>\n      <td>874167.000000</td>\n      <td>2018-05-26 00:00:00</td>\n      <td>5.000000e+06</td>\n      <td>4.746411e+06</td>\n      <td>-1.236888e+09</td>\n    </tr>\n    <tr>\n      <th>max</th>\n      <td>2019-03-05 00:00:00</td>\n      <td>874525.000000</td>\n      <td>2019-03-05 00:00:00</td>\n      <td>4.594475e+08</td>\n      <td>5.448000e+08</td>\n      <td>8.500000e+06</td>\n    </tr>\n    <tr>\n      <th>std</th>\n      <td>NaN</td>\n      <td>151205.932910</td>\n      <td>NaN</td>\n      <td>1.084850e+07</td>\n      <td>8.683093e+06</td>\n      <td>5.348202e+08</td>\n    </tr>\n  </tbody>\n</table>\n</div>"
     },
     "execution_count": 28,
     "metadata": {},
     "output_type": "execute_result"
    }
   ],
   "source": [
    "transactions.describe()"
   ],
   "metadata": {
    "collapsed": false,
    "ExecuteTime": {
     "end_time": "2024-04-02T03:31:13.839058Z",
     "start_time": "2024-04-02T03:31:13.813541Z"
    }
   },
   "id": "63befa541b8e872b",
   "execution_count": 28
  },
  {
   "cell_type": "code",
   "outputs": [
    {
     "data": {
      "text/plain": "Account No                  0\nDATE                        0\nTRANSACTION DETAILS      2499\nCHQ.NO.                115296\nVALUE DATE                  0\nWITHDRAWAL AMT          62652\nDEPOSIT AMT             53549\nBALANCE AMT                 0\n.                           0\ndtype: int64"
     },
     "execution_count": 29,
     "metadata": {},
     "output_type": "execute_result"
    }
   ],
   "source": [
    "transactions.isnull().sum()"
   ],
   "metadata": {
    "collapsed": false,
    "ExecuteTime": {
     "end_time": "2024-04-02T03:31:13.854647Z",
     "start_time": "2024-04-02T03:31:13.840062Z"
    }
   },
   "id": "96c47f12f1317931",
   "execution_count": 29
  },
  {
   "cell_type": "markdown",
   "source": [
    "### Clean and drop features"
   ],
   "metadata": {
    "collapsed": false
   },
   "id": "e7e573b1566b3994"
  },
  {
   "cell_type": "code",
   "outputs": [],
   "source": [
    "# Replace missing values with 0 for WITHDRAWAL AMT and DEPOSIT AMT\n",
    "\n",
    "transactions['WITHDRAWAL AMT'] = transactions['WITHDRAWAL AMT'].fillna(0)\n",
    "transactions['DEPOSIT AMT'] = transactions['DEPOSIT AMT'].fillna(0)\n",
    "\n",
    "\n",
    "# Remove trailing single quote from Account No\n",
    "transactions['Account No'] = transactions['Account No'].str.replace(\"'\", \"\")"
   ],
   "metadata": {
    "collapsed": false,
    "ExecuteTime": {
     "end_time": "2024-04-02T03:31:13.872396Z",
     "start_time": "2024-04-02T03:31:13.854647Z"
    }
   },
   "id": "ffd413db9de3a8c8",
   "execution_count": 30
  },
  {
   "cell_type": "code",
   "outputs": [
    {
     "ename": "TypeError",
     "evalue": "float() argument must be a string or a real number, not 'Timestamp'",
     "output_type": "error",
     "traceback": [
      "\u001B[1;31m---------------------------------------------------------------------------\u001B[0m",
      "\u001B[1;31mTypeError\u001B[0m                                 Traceback (most recent call last)",
      "\u001B[1;32m~\\AppData\\Local\\Temp\\ipykernel_11616\\1838403211.py\u001B[0m in \u001B[0;36m?\u001B[1;34m()\u001B[0m\n\u001B[0;32m      1\u001B[0m \u001B[1;31m# Standardize the data\u001B[0m\u001B[1;33m\u001B[0m\u001B[1;33m\u001B[0m\u001B[0m\n\u001B[0;32m      2\u001B[0m \u001B[0mscaler\u001B[0m \u001B[1;33m=\u001B[0m \u001B[0mStandardScaler\u001B[0m\u001B[1;33m(\u001B[0m\u001B[1;33m)\u001B[0m\u001B[1;33m\u001B[0m\u001B[1;33m\u001B[0m\u001B[0m\n\u001B[1;32m----> 3\u001B[1;33m \u001B[0mtransactions_scaled\u001B[0m \u001B[1;33m=\u001B[0m \u001B[0mscaler\u001B[0m\u001B[1;33m.\u001B[0m\u001B[0mfit_transform\u001B[0m\u001B[1;33m(\u001B[0m\u001B[0mtransactions\u001B[0m\u001B[1;33m)\u001B[0m\u001B[1;33m\u001B[0m\u001B[1;33m\u001B[0m\u001B[0m\n\u001B[0m\u001B[0;32m      4\u001B[0m \u001B[0mtransactions_scaled\u001B[0m\u001B[1;33m.\u001B[0m\u001B[0mhead\u001B[0m\u001B[1;33m(\u001B[0m\u001B[1;36m20\u001B[0m\u001B[1;33m)\u001B[0m\u001B[1;33m\u001B[0m\u001B[1;33m\u001B[0m\u001B[0m\n",
      "\u001B[1;32mE:\\projects\\UCF\\cap5619-group4-script-assignments\\.venv\\Lib\\site-packages\\sklearn\\utils\\_set_output.py\u001B[0m in \u001B[0;36m?\u001B[1;34m(self, X, *args, **kwargs)\u001B[0m\n\u001B[0;32m    293\u001B[0m     \u001B[1;33m@\u001B[0m\u001B[0mwraps\u001B[0m\u001B[1;33m(\u001B[0m\u001B[0mf\u001B[0m\u001B[1;33m)\u001B[0m\u001B[1;33m\u001B[0m\u001B[1;33m\u001B[0m\u001B[0m\n\u001B[0;32m    294\u001B[0m     \u001B[1;32mdef\u001B[0m \u001B[0mwrapped\u001B[0m\u001B[1;33m(\u001B[0m\u001B[0mself\u001B[0m\u001B[1;33m,\u001B[0m \u001B[0mX\u001B[0m\u001B[1;33m,\u001B[0m \u001B[1;33m*\u001B[0m\u001B[0margs\u001B[0m\u001B[1;33m,\u001B[0m \u001B[1;33m**\u001B[0m\u001B[0mkwargs\u001B[0m\u001B[1;33m)\u001B[0m\u001B[1;33m:\u001B[0m\u001B[1;33m\u001B[0m\u001B[1;33m\u001B[0m\u001B[0m\n\u001B[1;32m--> 295\u001B[1;33m         \u001B[0mdata_to_wrap\u001B[0m \u001B[1;33m=\u001B[0m \u001B[0mf\u001B[0m\u001B[1;33m(\u001B[0m\u001B[0mself\u001B[0m\u001B[1;33m,\u001B[0m \u001B[0mX\u001B[0m\u001B[1;33m,\u001B[0m \u001B[1;33m*\u001B[0m\u001B[0margs\u001B[0m\u001B[1;33m,\u001B[0m \u001B[1;33m**\u001B[0m\u001B[0mkwargs\u001B[0m\u001B[1;33m)\u001B[0m\u001B[1;33m\u001B[0m\u001B[1;33m\u001B[0m\u001B[0m\n\u001B[0m\u001B[0;32m    296\u001B[0m         \u001B[1;32mif\u001B[0m \u001B[0misinstance\u001B[0m\u001B[1;33m(\u001B[0m\u001B[0mdata_to_wrap\u001B[0m\u001B[1;33m,\u001B[0m \u001B[0mtuple\u001B[0m\u001B[1;33m)\u001B[0m\u001B[1;33m:\u001B[0m\u001B[1;33m\u001B[0m\u001B[1;33m\u001B[0m\u001B[0m\n\u001B[0;32m    297\u001B[0m             \u001B[1;31m# only wrap the first output for cross decomposition\u001B[0m\u001B[1;33m\u001B[0m\u001B[1;33m\u001B[0m\u001B[0m\n\u001B[0;32m    298\u001B[0m             return_tuple = (\n",
      "\u001B[1;32mE:\\projects\\UCF\\cap5619-group4-script-assignments\\.venv\\Lib\\site-packages\\sklearn\\base.py\u001B[0m in \u001B[0;36m?\u001B[1;34m(self, X, y, **fit_params)\u001B[0m\n\u001B[0;32m   1094\u001B[0m                 \u001B[1;33m)\u001B[0m\u001B[1;33m\u001B[0m\u001B[1;33m\u001B[0m\u001B[0m\n\u001B[0;32m   1095\u001B[0m \u001B[1;33m\u001B[0m\u001B[0m\n\u001B[0;32m   1096\u001B[0m         \u001B[1;32mif\u001B[0m \u001B[0my\u001B[0m \u001B[1;32mis\u001B[0m \u001B[1;32mNone\u001B[0m\u001B[1;33m:\u001B[0m\u001B[1;33m\u001B[0m\u001B[1;33m\u001B[0m\u001B[0m\n\u001B[0;32m   1097\u001B[0m             \u001B[1;31m# fit method of arity 1 (unsupervised transformation)\u001B[0m\u001B[1;33m\u001B[0m\u001B[1;33m\u001B[0m\u001B[0m\n\u001B[1;32m-> 1098\u001B[1;33m             \u001B[1;32mreturn\u001B[0m \u001B[0mself\u001B[0m\u001B[1;33m.\u001B[0m\u001B[0mfit\u001B[0m\u001B[1;33m(\u001B[0m\u001B[0mX\u001B[0m\u001B[1;33m,\u001B[0m \u001B[1;33m**\u001B[0m\u001B[0mfit_params\u001B[0m\u001B[1;33m)\u001B[0m\u001B[1;33m.\u001B[0m\u001B[0mtransform\u001B[0m\u001B[1;33m(\u001B[0m\u001B[0mX\u001B[0m\u001B[1;33m)\u001B[0m\u001B[1;33m\u001B[0m\u001B[1;33m\u001B[0m\u001B[0m\n\u001B[0m\u001B[0;32m   1099\u001B[0m         \u001B[1;32melse\u001B[0m\u001B[1;33m:\u001B[0m\u001B[1;33m\u001B[0m\u001B[1;33m\u001B[0m\u001B[0m\n\u001B[0;32m   1100\u001B[0m             \u001B[1;31m# fit method of arity 2 (supervised transformation)\u001B[0m\u001B[1;33m\u001B[0m\u001B[1;33m\u001B[0m\u001B[0m\n\u001B[0;32m   1101\u001B[0m             \u001B[1;32mreturn\u001B[0m \u001B[0mself\u001B[0m\u001B[1;33m.\u001B[0m\u001B[0mfit\u001B[0m\u001B[1;33m(\u001B[0m\u001B[0mX\u001B[0m\u001B[1;33m,\u001B[0m \u001B[0my\u001B[0m\u001B[1;33m,\u001B[0m \u001B[1;33m**\u001B[0m\u001B[0mfit_params\u001B[0m\u001B[1;33m)\u001B[0m\u001B[1;33m.\u001B[0m\u001B[0mtransform\u001B[0m\u001B[1;33m(\u001B[0m\u001B[0mX\u001B[0m\u001B[1;33m)\u001B[0m\u001B[1;33m\u001B[0m\u001B[1;33m\u001B[0m\u001B[0m\n",
      "\u001B[1;32mE:\\projects\\UCF\\cap5619-group4-script-assignments\\.venv\\Lib\\site-packages\\sklearn\\preprocessing\\_data.py\u001B[0m in \u001B[0;36m?\u001B[1;34m(self, X, y, sample_weight)\u001B[0m\n\u001B[0;32m    872\u001B[0m             \u001B[0mFitted\u001B[0m \u001B[0mscaler\u001B[0m\u001B[1;33m.\u001B[0m\u001B[1;33m\u001B[0m\u001B[1;33m\u001B[0m\u001B[0m\n\u001B[0;32m    873\u001B[0m         \"\"\"\n\u001B[0;32m    874\u001B[0m         \u001B[1;31m# Reset internal state before fitting\u001B[0m\u001B[1;33m\u001B[0m\u001B[1;33m\u001B[0m\u001B[0m\n\u001B[0;32m    875\u001B[0m         \u001B[0mself\u001B[0m\u001B[1;33m.\u001B[0m\u001B[0m_reset\u001B[0m\u001B[1;33m(\u001B[0m\u001B[1;33m)\u001B[0m\u001B[1;33m\u001B[0m\u001B[1;33m\u001B[0m\u001B[0m\n\u001B[1;32m--> 876\u001B[1;33m         \u001B[1;32mreturn\u001B[0m \u001B[0mself\u001B[0m\u001B[1;33m.\u001B[0m\u001B[0mpartial_fit\u001B[0m\u001B[1;33m(\u001B[0m\u001B[0mX\u001B[0m\u001B[1;33m,\u001B[0m \u001B[0my\u001B[0m\u001B[1;33m,\u001B[0m \u001B[0msample_weight\u001B[0m\u001B[1;33m)\u001B[0m\u001B[1;33m\u001B[0m\u001B[1;33m\u001B[0m\u001B[0m\n\u001B[0m",
      "\u001B[1;32mE:\\projects\\UCF\\cap5619-group4-script-assignments\\.venv\\Lib\\site-packages\\sklearn\\base.py\u001B[0m in \u001B[0;36m?\u001B[1;34m(estimator, *args, **kwargs)\u001B[0m\n\u001B[0;32m   1470\u001B[0m                 skip_parameter_validation=(\n\u001B[0;32m   1471\u001B[0m                     \u001B[0mprefer_skip_nested_validation\u001B[0m \u001B[1;32mor\u001B[0m \u001B[0mglobal_skip_validation\u001B[0m\u001B[1;33m\u001B[0m\u001B[1;33m\u001B[0m\u001B[0m\n\u001B[0;32m   1472\u001B[0m                 \u001B[1;33m)\u001B[0m\u001B[1;33m\u001B[0m\u001B[1;33m\u001B[0m\u001B[0m\n\u001B[0;32m   1473\u001B[0m             \u001B[1;33m)\u001B[0m\u001B[1;33m:\u001B[0m\u001B[1;33m\u001B[0m\u001B[1;33m\u001B[0m\u001B[0m\n\u001B[1;32m-> 1474\u001B[1;33m                 \u001B[1;32mreturn\u001B[0m \u001B[0mfit_method\u001B[0m\u001B[1;33m(\u001B[0m\u001B[0mestimator\u001B[0m\u001B[1;33m,\u001B[0m \u001B[1;33m*\u001B[0m\u001B[0margs\u001B[0m\u001B[1;33m,\u001B[0m \u001B[1;33m**\u001B[0m\u001B[0mkwargs\u001B[0m\u001B[1;33m)\u001B[0m\u001B[1;33m\u001B[0m\u001B[1;33m\u001B[0m\u001B[0m\n\u001B[0m",
      "\u001B[1;32mE:\\projects\\UCF\\cap5619-group4-script-assignments\\.venv\\Lib\\site-packages\\sklearn\\preprocessing\\_data.py\u001B[0m in \u001B[0;36m?\u001B[1;34m(self, X, y, sample_weight)\u001B[0m\n\u001B[0;32m    908\u001B[0m         \u001B[0mself\u001B[0m \u001B[1;33m:\u001B[0m \u001B[0mobject\u001B[0m\u001B[1;33m\u001B[0m\u001B[1;33m\u001B[0m\u001B[0m\n\u001B[0;32m    909\u001B[0m             \u001B[0mFitted\u001B[0m \u001B[0mscaler\u001B[0m\u001B[1;33m.\u001B[0m\u001B[1;33m\u001B[0m\u001B[1;33m\u001B[0m\u001B[0m\n\u001B[0;32m    910\u001B[0m         \"\"\"\n\u001B[0;32m    911\u001B[0m         \u001B[0mfirst_call\u001B[0m \u001B[1;33m=\u001B[0m \u001B[1;32mnot\u001B[0m \u001B[0mhasattr\u001B[0m\u001B[1;33m(\u001B[0m\u001B[0mself\u001B[0m\u001B[1;33m,\u001B[0m \u001B[1;34m\"n_samples_seen_\"\u001B[0m\u001B[1;33m)\u001B[0m\u001B[1;33m\u001B[0m\u001B[1;33m\u001B[0m\u001B[0m\n\u001B[1;32m--> 912\u001B[1;33m         X = self._validate_data(\n\u001B[0m\u001B[0;32m    913\u001B[0m             \u001B[0mX\u001B[0m\u001B[1;33m,\u001B[0m\u001B[1;33m\u001B[0m\u001B[1;33m\u001B[0m\u001B[0m\n\u001B[0;32m    914\u001B[0m             \u001B[0maccept_sparse\u001B[0m\u001B[1;33m=\u001B[0m\u001B[1;33m(\u001B[0m\u001B[1;34m\"csr\"\u001B[0m\u001B[1;33m,\u001B[0m \u001B[1;34m\"csc\"\u001B[0m\u001B[1;33m)\u001B[0m\u001B[1;33m,\u001B[0m\u001B[1;33m\u001B[0m\u001B[1;33m\u001B[0m\u001B[0m\n\u001B[0;32m    915\u001B[0m             \u001B[0mdtype\u001B[0m\u001B[1;33m=\u001B[0m\u001B[0mFLOAT_DTYPES\u001B[0m\u001B[1;33m,\u001B[0m\u001B[1;33m\u001B[0m\u001B[1;33m\u001B[0m\u001B[0m\n",
      "\u001B[1;32mE:\\projects\\UCF\\cap5619-group4-script-assignments\\.venv\\Lib\\site-packages\\sklearn\\base.py\u001B[0m in \u001B[0;36m?\u001B[1;34m(self, X, y, reset, validate_separately, cast_to_ndarray, **check_params)\u001B[0m\n\u001B[0;32m    629\u001B[0m                 \u001B[0mout\u001B[0m \u001B[1;33m=\u001B[0m \u001B[0my\u001B[0m\u001B[1;33m\u001B[0m\u001B[1;33m\u001B[0m\u001B[0m\n\u001B[0;32m    630\u001B[0m             \u001B[1;32melse\u001B[0m\u001B[1;33m:\u001B[0m\u001B[1;33m\u001B[0m\u001B[1;33m\u001B[0m\u001B[0m\n\u001B[0;32m    631\u001B[0m                 \u001B[0mout\u001B[0m \u001B[1;33m=\u001B[0m \u001B[0mX\u001B[0m\u001B[1;33m,\u001B[0m \u001B[0my\u001B[0m\u001B[1;33m\u001B[0m\u001B[1;33m\u001B[0m\u001B[0m\n\u001B[0;32m    632\u001B[0m         \u001B[1;32melif\u001B[0m \u001B[1;32mnot\u001B[0m \u001B[0mno_val_X\u001B[0m \u001B[1;32mand\u001B[0m \u001B[0mno_val_y\u001B[0m\u001B[1;33m:\u001B[0m\u001B[1;33m\u001B[0m\u001B[1;33m\u001B[0m\u001B[0m\n\u001B[1;32m--> 633\u001B[1;33m             \u001B[0mout\u001B[0m \u001B[1;33m=\u001B[0m \u001B[0mcheck_array\u001B[0m\u001B[1;33m(\u001B[0m\u001B[0mX\u001B[0m\u001B[1;33m,\u001B[0m \u001B[0minput_name\u001B[0m\u001B[1;33m=\u001B[0m\u001B[1;34m\"X\"\u001B[0m\u001B[1;33m,\u001B[0m \u001B[1;33m**\u001B[0m\u001B[0mcheck_params\u001B[0m\u001B[1;33m)\u001B[0m\u001B[1;33m\u001B[0m\u001B[1;33m\u001B[0m\u001B[0m\n\u001B[0m\u001B[0;32m    634\u001B[0m         \u001B[1;32melif\u001B[0m \u001B[0mno_val_X\u001B[0m \u001B[1;32mand\u001B[0m \u001B[1;32mnot\u001B[0m \u001B[0mno_val_y\u001B[0m\u001B[1;33m:\u001B[0m\u001B[1;33m\u001B[0m\u001B[1;33m\u001B[0m\u001B[0m\n\u001B[0;32m    635\u001B[0m             \u001B[0mout\u001B[0m \u001B[1;33m=\u001B[0m \u001B[0m_check_y\u001B[0m\u001B[1;33m(\u001B[0m\u001B[0my\u001B[0m\u001B[1;33m,\u001B[0m \u001B[1;33m**\u001B[0m\u001B[0mcheck_params\u001B[0m\u001B[1;33m)\u001B[0m\u001B[1;33m\u001B[0m\u001B[1;33m\u001B[0m\u001B[0m\n\u001B[0;32m    636\u001B[0m         \u001B[1;32melse\u001B[0m\u001B[1;33m:\u001B[0m\u001B[1;33m\u001B[0m\u001B[1;33m\u001B[0m\u001B[0m\n",
      "\u001B[1;32mE:\\projects\\UCF\\cap5619-group4-script-assignments\\.venv\\Lib\\site-packages\\sklearn\\utils\\validation.py\u001B[0m in \u001B[0;36m?\u001B[1;34m(array, accept_sparse, accept_large_sparse, dtype, order, copy, force_all_finite, ensure_2d, allow_nd, ensure_min_samples, ensure_min_features, estimator, input_name)\u001B[0m\n\u001B[0;32m    994\u001B[0m                         \u001B[1;33m)\u001B[0m\u001B[1;33m\u001B[0m\u001B[1;33m\u001B[0m\u001B[0m\n\u001B[0;32m    995\u001B[0m                     \u001B[0marray\u001B[0m \u001B[1;33m=\u001B[0m \u001B[0mxp\u001B[0m\u001B[1;33m.\u001B[0m\u001B[0mastype\u001B[0m\u001B[1;33m(\u001B[0m\u001B[0marray\u001B[0m\u001B[1;33m,\u001B[0m \u001B[0mdtype\u001B[0m\u001B[1;33m,\u001B[0m \u001B[0mcopy\u001B[0m\u001B[1;33m=\u001B[0m\u001B[1;32mFalse\u001B[0m\u001B[1;33m)\u001B[0m\u001B[1;33m\u001B[0m\u001B[1;33m\u001B[0m\u001B[0m\n\u001B[0;32m    996\u001B[0m                 \u001B[1;32melse\u001B[0m\u001B[1;33m:\u001B[0m\u001B[1;33m\u001B[0m\u001B[1;33m\u001B[0m\u001B[0m\n\u001B[0;32m    997\u001B[0m                     \u001B[0marray\u001B[0m \u001B[1;33m=\u001B[0m \u001B[0m_asarray_with_order\u001B[0m\u001B[1;33m(\u001B[0m\u001B[0marray\u001B[0m\u001B[1;33m,\u001B[0m \u001B[0morder\u001B[0m\u001B[1;33m=\u001B[0m\u001B[0morder\u001B[0m\u001B[1;33m,\u001B[0m \u001B[0mdtype\u001B[0m\u001B[1;33m=\u001B[0m\u001B[0mdtype\u001B[0m\u001B[1;33m,\u001B[0m \u001B[0mxp\u001B[0m\u001B[1;33m=\u001B[0m\u001B[0mxp\u001B[0m\u001B[1;33m)\u001B[0m\u001B[1;33m\u001B[0m\u001B[1;33m\u001B[0m\u001B[0m\n\u001B[1;32m--> 998\u001B[1;33m             \u001B[1;32mexcept\u001B[0m \u001B[0mComplexWarning\u001B[0m \u001B[1;32mas\u001B[0m \u001B[0mcomplex_warning\u001B[0m\u001B[1;33m:\u001B[0m\u001B[1;33m\u001B[0m\u001B[1;33m\u001B[0m\u001B[0m\n\u001B[0m\u001B[0;32m    999\u001B[0m                 raise ValueError(\n\u001B[0;32m   1000\u001B[0m                     \u001B[1;34m\"Complex data not supported\\n{}\\n\"\u001B[0m\u001B[1;33m.\u001B[0m\u001B[0mformat\u001B[0m\u001B[1;33m(\u001B[0m\u001B[0marray\u001B[0m\u001B[1;33m)\u001B[0m\u001B[1;33m\u001B[0m\u001B[1;33m\u001B[0m\u001B[0m\n\u001B[0;32m   1001\u001B[0m                 \u001B[1;33m)\u001B[0m \u001B[1;32mfrom\u001B[0m \u001B[0mcomplex_warning\u001B[0m\u001B[1;33m\u001B[0m\u001B[1;33m\u001B[0m\u001B[0m\n",
      "\u001B[1;32mE:\\projects\\UCF\\cap5619-group4-script-assignments\\.venv\\Lib\\site-packages\\sklearn\\utils\\_array_api.py\u001B[0m in \u001B[0;36m?\u001B[1;34m(array, dtype, order, copy, xp)\u001B[0m\n\u001B[0;32m    517\u001B[0m         \u001B[1;31m# Use NumPy API to support order\u001B[0m\u001B[1;33m\u001B[0m\u001B[1;33m\u001B[0m\u001B[0m\n\u001B[0;32m    518\u001B[0m         \u001B[1;32mif\u001B[0m \u001B[0mcopy\u001B[0m \u001B[1;32mis\u001B[0m \u001B[1;32mTrue\u001B[0m\u001B[1;33m:\u001B[0m\u001B[1;33m\u001B[0m\u001B[1;33m\u001B[0m\u001B[0m\n\u001B[0;32m    519\u001B[0m             \u001B[0marray\u001B[0m \u001B[1;33m=\u001B[0m \u001B[0mnumpy\u001B[0m\u001B[1;33m.\u001B[0m\u001B[0marray\u001B[0m\u001B[1;33m(\u001B[0m\u001B[0marray\u001B[0m\u001B[1;33m,\u001B[0m \u001B[0morder\u001B[0m\u001B[1;33m=\u001B[0m\u001B[0morder\u001B[0m\u001B[1;33m,\u001B[0m \u001B[0mdtype\u001B[0m\u001B[1;33m=\u001B[0m\u001B[0mdtype\u001B[0m\u001B[1;33m)\u001B[0m\u001B[1;33m\u001B[0m\u001B[1;33m\u001B[0m\u001B[0m\n\u001B[0;32m    520\u001B[0m         \u001B[1;32melse\u001B[0m\u001B[1;33m:\u001B[0m\u001B[1;33m\u001B[0m\u001B[1;33m\u001B[0m\u001B[0m\n\u001B[1;32m--> 521\u001B[1;33m             \u001B[0marray\u001B[0m \u001B[1;33m=\u001B[0m \u001B[0mnumpy\u001B[0m\u001B[1;33m.\u001B[0m\u001B[0masarray\u001B[0m\u001B[1;33m(\u001B[0m\u001B[0marray\u001B[0m\u001B[1;33m,\u001B[0m \u001B[0morder\u001B[0m\u001B[1;33m=\u001B[0m\u001B[0morder\u001B[0m\u001B[1;33m,\u001B[0m \u001B[0mdtype\u001B[0m\u001B[1;33m=\u001B[0m\u001B[0mdtype\u001B[0m\u001B[1;33m)\u001B[0m\u001B[1;33m\u001B[0m\u001B[1;33m\u001B[0m\u001B[0m\n\u001B[0m\u001B[0;32m    522\u001B[0m \u001B[1;33m\u001B[0m\u001B[0m\n\u001B[0;32m    523\u001B[0m         \u001B[1;31m# At this point array is a NumPy ndarray. We convert it to an array\u001B[0m\u001B[1;33m\u001B[0m\u001B[1;33m\u001B[0m\u001B[0m\n\u001B[0;32m    524\u001B[0m         \u001B[1;31m# container that is consistent with the input's namespace.\u001B[0m\u001B[1;33m\u001B[0m\u001B[1;33m\u001B[0m\u001B[0m\n",
      "\u001B[1;32mE:\\projects\\UCF\\cap5619-group4-script-assignments\\.venv\\Lib\\site-packages\\pandas\\core\\generic.py\u001B[0m in \u001B[0;36m?\u001B[1;34m(self, dtype)\u001B[0m\n\u001B[0;32m   2148\u001B[0m     \u001B[1;32mdef\u001B[0m \u001B[0m__array__\u001B[0m\u001B[1;33m(\u001B[0m\u001B[0mself\u001B[0m\u001B[1;33m,\u001B[0m \u001B[0mdtype\u001B[0m\u001B[1;33m:\u001B[0m \u001B[0mnpt\u001B[0m\u001B[1;33m.\u001B[0m\u001B[0mDTypeLike\u001B[0m \u001B[1;33m|\u001B[0m \u001B[1;32mNone\u001B[0m \u001B[1;33m=\u001B[0m \u001B[1;32mNone\u001B[0m\u001B[1;33m)\u001B[0m \u001B[1;33m->\u001B[0m \u001B[0mnp\u001B[0m\u001B[1;33m.\u001B[0m\u001B[0mndarray\u001B[0m\u001B[1;33m:\u001B[0m\u001B[1;33m\u001B[0m\u001B[1;33m\u001B[0m\u001B[0m\n\u001B[0;32m   2149\u001B[0m         \u001B[0mvalues\u001B[0m \u001B[1;33m=\u001B[0m \u001B[0mself\u001B[0m\u001B[1;33m.\u001B[0m\u001B[0m_values\u001B[0m\u001B[1;33m\u001B[0m\u001B[1;33m\u001B[0m\u001B[0m\n\u001B[1;32m-> 2150\u001B[1;33m         \u001B[0marr\u001B[0m \u001B[1;33m=\u001B[0m \u001B[0mnp\u001B[0m\u001B[1;33m.\u001B[0m\u001B[0masarray\u001B[0m\u001B[1;33m(\u001B[0m\u001B[0mvalues\u001B[0m\u001B[1;33m,\u001B[0m \u001B[0mdtype\u001B[0m\u001B[1;33m=\u001B[0m\u001B[0mdtype\u001B[0m\u001B[1;33m)\u001B[0m\u001B[1;33m\u001B[0m\u001B[1;33m\u001B[0m\u001B[0m\n\u001B[0m\u001B[0;32m   2151\u001B[0m         if (\n\u001B[0;32m   2152\u001B[0m             \u001B[0mastype_is_view\u001B[0m\u001B[1;33m(\u001B[0m\u001B[0mvalues\u001B[0m\u001B[1;33m.\u001B[0m\u001B[0mdtype\u001B[0m\u001B[1;33m,\u001B[0m \u001B[0marr\u001B[0m\u001B[1;33m.\u001B[0m\u001B[0mdtype\u001B[0m\u001B[1;33m)\u001B[0m\u001B[1;33m\u001B[0m\u001B[1;33m\u001B[0m\u001B[0m\n\u001B[0;32m   2153\u001B[0m             \u001B[1;32mand\u001B[0m \u001B[0musing_copy_on_write\u001B[0m\u001B[1;33m(\u001B[0m\u001B[1;33m)\u001B[0m\u001B[1;33m\u001B[0m\u001B[1;33m\u001B[0m\u001B[0m\n",
      "\u001B[1;31mTypeError\u001B[0m: float() argument must be a string or a real number, not 'Timestamp'"
     ]
    }
   ],
   "source": [
    "# Standardize the data\n",
    "scaler = StandardScaler()\n",
    "transactions_scaled = scaler.fit_transform(transactions)\n",
    "transactions_scaled.head(20)"
   ],
   "metadata": {
    "collapsed": false,
    "ExecuteTime": {
     "end_time": "2024-04-02T03:31:13.991345Z",
     "start_time": "2024-04-02T03:31:13.873401Z"
    }
   },
   "id": "83863a5c67cbd53c",
   "execution_count": 31
  },
  {
   "cell_type": "code",
   "outputs": [],
   "source": [
    "\n",
    "# DBSCAN clustering\n",
    "eps_values = [0.1, 0.5, 1.0]  \n",
    "min_samples_values = [5, 10, 15]  \n",
    "\n",
    "best_score = -1\n",
    "best_params = None\n",
    "best_labels = None\n",
    "\n",
    "# Number of clusters, ignoring noise\n",
    "for eps in eps_values:\n",
    "    for min_samples in min_samples_values:\n",
    "        dbscan = DBSCAN(eps=eps, min_samples=min_samples)\n",
    "        labels = dbscan.fit_predict(transactions_scaled)\n",
    "        score = len(set(labels)) - (1 if -1 in labels else 0)  \n",
    "        if score > best_score:\n",
    "            best_score = score\n",
    "            best_params = (eps, min_samples)\n",
    "            best_labels = labels\n",
    "\n",
    "# Extracting the best parameters and clustering results\n",
    "best_eps, best_min_samples = best_params\n",
    "print(\"Best parameters: eps={}, min_samples={}\".format(best_eps, best_min_samples))\n",
    "print(\"Number of clusters found:\", best_score)\n",
    "\n",
    "# Assigning cluster labels to the original data\n",
    "transactions['cluster'] = best_labels\n",
    "\n",
    "# Accessing clustered transactions\n",
    "for cluster_id in transactions['cluster'].unique():\n",
    "    cluster_transactions = transactions[transactions['cluster'] == cluster_id]\n",
    "    print(f\"Cluster {cluster_id}:\")\n",
    "    print(cluster_transactions.head())\n",
    "\n",
    "# Analyzing anomalies\n",
    "anomaly_mask = best_labels == -1  \n",
    "anomalies = transactions[anomaly_mask]\n",
    "\n",
    "# Analyzing characteristics of anomalies\n",
    "anomalies_description = anomalies.describe()\n",
    "print(\"Characteristics of anomalies:\")\n",
    "print(anomalies_description)\n",
    "\n",
    "# Visualizing clusters and outliers\n",
    "plt.figure(figsize=(10, 6))\n",
    "\n",
    "# Plotting clustered transactions\n",
    "plt.scatter(transactions['BALANCE AMT'], transactions['DATE'], c=labels, cmap='viridis', alpha=0.5)\n",
    "plt.colorbar(label='Cluster')\n",
    "plt.title('DBSCAN Clustering of Transactions')\n",
    "plt.xlabel('BALANCE AMT')\n",
    "plt.ylabel('DATE')\n",
    "plt.grid(True)\n",
    "\n",
    "# Highlighting anomalies\n",
    "plt.scatter(anomalies['BALANCE AMT'], anomalies['DATE'], color='red', label='Anomalies')\n",
    "plt.legend()\n",
    "\n",
    "plt.show()"
   ],
   "metadata": {
    "ExecuteTime": {
     "start_time": "2024-04-02T03:31:13.992350Z"
    }
   },
   "id": "42bd17f3",
   "execution_count": null
  }
 ],
 "metadata": {
  "kernelspec": {
   "display_name": "Python 3 (ipykernel)",
   "language": "python",
   "name": "python3"
  },
  "language_info": {
   "codemirror_mode": {
    "name": "ipython",
    "version": 3
   },
   "file_extension": ".py",
   "mimetype": "text/x-python",
   "name": "python",
   "nbconvert_exporter": "python",
   "pygments_lexer": "ipython3",
   "version": "3.11.3"
  }
 },
 "nbformat": 4,
 "nbformat_minor": 5
}
